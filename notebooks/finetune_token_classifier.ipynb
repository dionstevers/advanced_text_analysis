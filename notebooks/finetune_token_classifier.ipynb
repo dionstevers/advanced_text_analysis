{
 "cells": [
  {
   "cell_type": "markdown",
   "metadata": {},
   "source": [
    "## Setup\n",
    "\n",
    "If you run this notebook on colab, you'll need to take a number of extra steps:"
   ]
  },
  {
   "cell_type": "code",
   "execution_count": 1,
   "metadata": {},
   "outputs": [],
   "source": [
    "# check if on colab\n",
    "COLAB = True\n",
    "try:\n",
    "    import google.colab\n",
    "except:\n",
    "    COLAB=False\n",
    "\n",
    "if COLAB:\n",
    "    # install required packages\n",
    "    !pip install -q datasets==2.21.0 tokenizers==0.19.1 sentencepiece==0.2.0 protobuf==3.20.3 accelerate==0.33.0 transformers==4.44.1 torch~=2.4.0 trl==0.10.1 scikit-learn==1.5.1 seqeval==1.2.2\n",
    "\n",
    "if COLAB:\n",
    "    # download custom utils\n",
    "    !mkdir -p utils\n",
    "    !base_url=https://raw.githubusercontent.com/haukelicht/advanced_text_analysis/main/notebooks/utils\n",
    "    !files=(io.py finetuning.py metrics.py)\n",
    "    !for file in \"${files[@]}\"; do curl -o \"utils/$file\" \"$base_url/$file\"; done\n",
    "\n",
    "if COLAB:\n",
    "    data_path = 'https://raw.githubusercontent.com/haukelicht/advanced_text_analysis/data/labeled/parolin_multi-coped_2022/'\n",
    "else:\n",
    "    import os\n",
    "    data_path = os.path.join('..', 'data', 'labeled', 'parolin_multi-coped_2022', '')"
   ]
  },
  {
   "cell_type": "markdown",
   "metadata": {},
   "source": [
    "Next, we load the required modules, classes, and functions.\n",
    "\n",
    "Note that some function come from the `utils` folder.\n",
    "These are functions I have defined to handle general tasks, like\n",
    "\n",
    "- reading data from a tabular file (e.g., CV);\n",
    "- splitting the data into train, dev, and test split;\n",
    "- tokenization,\n",
    "- etc.\n",
    "\n",
    "These functions should be general enough for many use cases. \n",
    "You can use them in your researhc if you want.\n",
    "But please double check that they do what you want them to do if you want to publish results that depend on my code ;)"
   ]
  },
  {
   "cell_type": "code",
   "execution_count": 2,
   "metadata": {},
   "outputs": [],
   "source": [
    "from utils.io import read_jsonlines\n",
    "from utils.finetuning import (\n",
    "    get_device, \n",
    "    split_data, \n",
    "    create_token_classification_dataset, \n",
    "    preprocess_token_classification_dataset\n",
    ")\n",
    "\n",
    "from datasets import DatasetDict\n",
    "from transformers import (\n",
    "    set_seed,\n",
    "    AutoTokenizer,\n",
    "    DataCollatorForTokenClassification, \n",
    "    AutoModelForTokenClassification, \n",
    "    Trainer,\n",
    "    TrainingArguments\n",
    ")\n",
    "\n",
    "from utils.metrics import (\n",
    "    parse_token_classifier_prediction_output, \n",
    "    compute_token_classification_metrics\n",
    ")"
   ]
  },
  {
   "cell_type": "code",
   "execution_count": 3,
   "metadata": {},
   "outputs": [],
   "source": [
    "SEED = 42\n",
    "set_seed(SEED)"
   ]
  },
  {
   "cell_type": "code",
   "execution_count": 4,
   "metadata": {},
   "outputs": [
    {
     "name": "stdout",
     "output_type": "stream",
     "text": [
      "Using device: mps\n"
     ]
    }
   ],
   "source": [
    "MODEL_NAME = 'roberta-base'\n",
    "device = get_device()\n",
    "print(f'Using device: {str(device)}')"
   ]
  },
  {
   "cell_type": "code",
   "execution_count": 5,
   "metadata": {},
   "outputs": [],
   "source": [
    "fp = data_path + 'parolin_multi-coped_2022-cameo_ner.jsonl'\n",
    "data = read_jsonlines(fp)"
   ]
  },
  {
   "cell_type": "code",
   "execution_count": 15,
   "metadata": {},
   "outputs": [
    {
     "name": "stdout",
     "output_type": "stream",
     "text": [
      "dict_keys(['tokens', 'labels'])\n",
      "B-S\tU.S.\n",
      "I-S\tmilitary\n",
      "I-S\tchief\n",
      "I-S\tGeneral\n",
      "I-S\tColin\n",
      "I-S\tPowell\n",
      "O\tsaid\n",
      "O\ton\n",
      "O\tWednesday\n",
      "B-T\tNATO\n",
      "O\twould\n",
      "O\tneed\n",
      "O\tto\n",
      "O\tremain\n",
      "O\tstrong\n",
      "O\t.\n"
     ]
    }
   ],
   "source": [
    "print(data[0].keys())\n",
    "for tok, lab in zip(data[0]['tokens'], data[0]['labels']):\n",
    "    print(lab, tok, sep = '\\t')"
   ]
  },
  {
   "cell_type": "code",
   "execution_count": 16,
   "metadata": {},
   "outputs": [
    {
     "data": {
      "text/plain": [
       "['O', 'I-T', 'I-S', 'I-R', 'B-T', 'B-S', 'B-R']"
      ]
     },
     "execution_count": 16,
     "metadata": {},
     "output_type": "execute_result"
    }
   ],
   "source": [
    "label_classes = sorted(set(l for doc in data  for l in doc['labels']))\n",
    "label_classes = list(reversed(label_classes))\n",
    "label_classes"
   ]
  },
  {
   "cell_type": "code",
   "execution_count": 5,
   "metadata": {},
   "outputs": [
    {
     "data": {
      "text/plain": [
       "['T', 'S', 'R']"
      ]
     },
     "execution_count": 5,
     "metadata": {},
     "output_type": "execute_result"
    }
   ],
   "source": [
    "types = [l[2:] for l in label_classes if l.startswith('B-')]\n",
    "types"
   ]
  },
  {
   "cell_type": "code",
   "execution_count": 7,
   "metadata": {},
   "outputs": [
    {
     "data": {
      "text/plain": [
       "{'O': 0, 'I-T': 1, 'I-S': 2, 'I-R': 3, 'B-T': 4, 'B-S': 5, 'B-R': 6}"
      ]
     },
     "execution_count": 7,
     "metadata": {},
     "output_type": "execute_result"
    }
   ],
   "source": [
    "label2id = {l: i for i, l in enumerate(label_classes)}\n",
    "id2label = {i: l for l, i in label2id.items()}\n",
    "\n",
    "label2id"
   ]
  },
  {
   "cell_type": "code",
   "execution_count": 8,
   "metadata": {},
   "outputs": [],
   "source": [
    "data_splits = split_data(data, dev_size=0.15, test_size=0.15, seed=42, return_dict=True)"
   ]
  },
  {
   "cell_type": "code",
   "execution_count": 9,
   "metadata": {},
   "outputs": [],
   "source": [
    "data_splits = DatasetDict({s: create_token_classification_dataset(d) for s, d in data_splits.items()})"
   ]
  },
  {
   "cell_type": "code",
   "execution_count": 10,
   "metadata": {},
   "outputs": [
    {
     "name": "stderr",
     "output_type": "stream",
     "text": [
      "/Users/hlicht/miniforge3/envs/advanced_text_analysis_gesis_2024/lib/python3.11/site-packages/transformers/tokenization_utils_base.py:1601: FutureWarning: `clean_up_tokenization_spaces` was not set. It will be set to `True` by default. This behavior will be depracted in transformers v4.45, and will be then set to `False` by default. For more details check this issue: https://github.com/huggingface/transformers/issues/31884\n",
      "  warnings.warn(\n"
     ]
    },
    {
     "data": {
      "application/vnd.jupyter.widget-view+json": {
       "model_id": "34cd1090cdb0478086952e41c5515f38",
       "version_major": 2,
       "version_minor": 0
      },
      "text/plain": [
       "Map:   0%|          | 0/1124 [00:00<?, ? examples/s]"
      ]
     },
     "metadata": {},
     "output_type": "display_data"
    },
    {
     "data": {
      "application/vnd.jupyter.widget-view+json": {
       "model_id": "fd9226024dd7437691542c89ca6da32d",
       "version_major": 2,
       "version_minor": 0
      },
      "text/plain": [
       "Map:   0%|          | 0/240 [00:00<?, ? examples/s]"
      ]
     },
     "metadata": {},
     "output_type": "display_data"
    },
    {
     "data": {
      "application/vnd.jupyter.widget-view+json": {
       "model_id": "3f876fb100364354a8e073e19810d7d1",
       "version_major": 2,
       "version_minor": 0
      },
      "text/plain": [
       "Map:   0%|          | 0/240 [00:00<?, ? examples/s]"
      ]
     },
     "metadata": {},
     "output_type": "display_data"
    }
   ],
   "source": [
    "tokenizer = AutoTokenizer.from_pretrained(MODEL_NAME, use_fast=True, add_prefix_space=True)\n",
    "data_splits = data_splits.map(lambda x: preprocess_token_classification_dataset(x, tokenizer=tokenizer, label2id=label2id, truncation=True), batched=True)"
   ]
  },
  {
   "cell_type": "code",
   "execution_count": 11,
   "metadata": {},
   "outputs": [],
   "source": [
    "data_splits = data_splits.remove_columns(['tokens'])"
   ]
  },
  {
   "cell_type": "code",
   "execution_count": 19,
   "metadata": {},
   "outputs": [
    {
     "name": "stderr",
     "output_type": "stream",
     "text": [
      "/Users/hlicht/miniforge3/envs/advanced_text_analysis_gesis_2024/lib/python3.11/site-packages/transformers/training_args.py:2179: UserWarning: `use_mps_device` is deprecated and will be removed in version 5.0 of 🤗 Transformers. `mps` device will be used by default if available similar to the way `cuda` device is used.Therefore, no action from user is required. \n",
      "  warnings.warn(\n"
     ]
    }
   ],
   "source": [
    "dest = './../results/example_classifier/'\n",
    "training_args = TrainingArguments(\n",
    "    output_dir=dest,\n",
    "    # hyperparameters\n",
    "    num_train_epochs=3,\n",
    "    per_device_train_batch_size=16,\n",
    "    per_device_eval_batch_size=32,\n",
    "    optim='adamw_torch',\n",
    "    use_mps_device=str(device)=='mps',\n",
    "    fp16=str(device).startswith('cuda'),\n",
    "    # evaluation on dev set\n",
    "    eval_strategy='epoch',\n",
    "    metric_for_best_model='macro_f1',\n",
    "    # model saving\n",
    "    save_strategy='epoch',\n",
    "    load_best_model_at_end=True,\n",
    "    save_total_limit=2,\n",
    "    # logging\n",
    "    logging_strategy='epoch',\n",
    "    logging_dir=dest+'logs',\n",
    "    # for reproducibility\n",
    "    seed=42,\n",
    "    data_seed=42,\n",
    "    full_determinism=True\n",
    ")"
   ]
  },
  {
   "cell_type": "code",
   "execution_count": 13,
   "metadata": {},
   "outputs": [],
   "source": [
    "def model_init():\n",
    "    model = AutoModelForTokenClassification.from_pretrained(MODEL_NAME, num_labels=len(label2id))\n",
    "    if isinstance(id2label[0], str):\n",
    "        model.config.id2label = id2label\n",
    "        model.config.label2id = label2id\n",
    "    model.to(device);\n",
    "    return model"
   ]
  },
  {
   "cell_type": "code",
   "execution_count": 16,
   "metadata": {},
   "outputs": [],
   "source": [
    "def compute_metrics(p):\n",
    "    labels, predictions = parse_token_classifier_prediction_output(p)\n",
    "    return compute_token_classification_metrics(y_true=labels, y_pred=predictions, label2id=label2id)"
   ]
  },
  {
   "cell_type": "code",
   "execution_count": 20,
   "metadata": {},
   "outputs": [
    {
     "name": "stderr",
     "output_type": "stream",
     "text": [
      "Some weights of RobertaForTokenClassification were not initialized from the model checkpoint at roberta-base and are newly initialized: ['classifier.bias', 'classifier.weight']\n",
      "You should probably TRAIN this model on a down-stream task to be able to use it for predictions and inference.\n"
     ]
    }
   ],
   "source": [
    "trainer = Trainer(\n",
    "    model_init=model_init,\n",
    "    args=training_args,\n",
    "    train_dataset=data_splits['train'],\n",
    "    eval_dataset=data_splits['dev'],\n",
    "    compute_metrics=compute_metrics,\n",
    "    tokenizer=tokenizer,\n",
    "    data_collator=DataCollatorForTokenClassification(tokenizer),\n",
    ")"
   ]
  },
  {
   "cell_type": "code",
   "execution_count": 21,
   "metadata": {},
   "outputs": [
    {
     "name": "stderr",
     "output_type": "stream",
     "text": [
      "Some weights of RobertaForTokenClassification were not initialized from the model checkpoint at roberta-base and are newly initialized: ['classifier.bias', 'classifier.weight']\n",
      "You should probably TRAIN this model on a down-stream task to be able to use it for predictions and inference.\n"
     ]
    },
    {
     "data": {
      "application/vnd.jupyter.widget-view+json": {
       "model_id": "1e22231a023e408bbed344d0f53602a6",
       "version_major": 2,
       "version_minor": 0
      },
      "text/plain": [
       "  0%|          | 0/213 [00:00<?, ?it/s]"
      ]
     },
     "metadata": {},
     "output_type": "display_data"
    },
    {
     "name": "stdout",
     "output_type": "stream",
     "text": [
      "{'loss': 0.472, 'grad_norm': 4.745232582092285, 'learning_rate': 3.3333333333333335e-05, 'epoch': 1.0}\n"
     ]
    },
    {
     "data": {
      "application/vnd.jupyter.widget-view+json": {
       "model_id": "fe023d56a59d4f59aeca653621a1cdab",
       "version_major": 2,
       "version_minor": 0
      },
      "text/plain": [
       "  0%|          | 0/8 [00:00<?, ?it/s]"
      ]
     },
     "metadata": {},
     "output_type": "display_data"
    },
    {
     "name": "stdout",
     "output_type": "stream",
     "text": [
      "{'eval_loss': 0.2595997452735901, 'eval_macro_precision': 0.49230411505830035, 'eval_macro_recall': 0.5701647737023735, 'eval_macro_f1': 0.5282855800329743, 'eval_micro_precision': 0.6238003838771593, 'eval_micro_recall': 0.720620842572062, 'eval_micro_f1': 0.668724279835391, 'eval_S_precision': 0.7701612903225806, 'eval_S_recall': 0.8761467889908257, 'eval_S_f1': 0.8197424892703863, 'eval_T_precision': 0.540084388185654, 'eval_T_recall': 0.6274509803921569, 'eval_T_f1': 0.5804988662131518, 'eval_R_precision': 0.16666666666666666, 'eval_R_recall': 0.20689655172413793, 'eval_R_f1': 0.18461538461538463, 'eval_runtime': 1.2321, 'eval_samples_per_second': 194.794, 'eval_steps_per_second': 6.493, 'epoch': 1.0}\n",
      "{'loss': 0.2051, 'grad_norm': 9.174385070800781, 'learning_rate': 1.6666666666666667e-05, 'epoch': 2.0}\n"
     ]
    },
    {
     "data": {
      "application/vnd.jupyter.widget-view+json": {
       "model_id": "cf2f9e746d264ce3a3beebe9e4a85f4f",
       "version_major": 2,
       "version_minor": 0
      },
      "text/plain": [
       "  0%|          | 0/8 [00:00<?, ?it/s]"
      ]
     },
     "metadata": {},
     "output_type": "display_data"
    },
    {
     "name": "stdout",
     "output_type": "stream",
     "text": [
      "{'eval_loss': 0.21786577999591827, 'eval_macro_precision': 0.5651007651289226, 'eval_macro_recall': 0.6441893956781278, 'eval_macro_f1': 0.6014375552147334, 'eval_micro_precision': 0.6596958174904943, 'eval_micro_recall': 0.7694013303769401, 'eval_micro_f1': 0.7103377686796316, 'eval_S_precision': 0.8031496062992126, 'eval_S_recall': 0.9357798165137615, 'eval_S_f1': 0.864406779661017, 'eval_T_precision': 0.5473251028806584, 'eval_T_recall': 0.6519607843137255, 'eval_T_f1': 0.5950782997762863, 'eval_R_precision': 0.3448275862068966, 'eval_R_recall': 0.3448275862068966, 'eval_R_f1': 0.3448275862068966, 'eval_runtime': 1.2917, 'eval_samples_per_second': 185.805, 'eval_steps_per_second': 6.193, 'epoch': 2.0}\n",
      "{'loss': 0.1353, 'grad_norm': 5.610859394073486, 'learning_rate': 0.0, 'epoch': 3.0}\n"
     ]
    },
    {
     "data": {
      "application/vnd.jupyter.widget-view+json": {
       "model_id": "0f3e85c57581439ebb8c2ca4123f9590",
       "version_major": 2,
       "version_minor": 0
      },
      "text/plain": [
       "  0%|          | 0/8 [00:00<?, ?it/s]"
      ]
     },
     "metadata": {},
     "output_type": "display_data"
    },
    {
     "name": "stdout",
     "output_type": "stream",
     "text": [
      "{'eval_loss': 0.220681831240654, 'eval_macro_precision': 0.7063131313131312, 'eval_macro_recall': 0.7543757353199636, 'eval_macro_f1': 0.728502620543413, 'eval_micro_precision': 0.7454909819639278, 'eval_micro_recall': 0.8248337028824834, 'eval_micro_f1': 0.7831578947368422, 'eval_S_precision': 0.8701298701298701, 'eval_S_recall': 0.9220183486238532, 'eval_S_f1': 0.8953229398663698, 'eval_T_precision': 0.6416666666666667, 'eval_T_recall': 0.7549019607843137, 'eval_T_f1': 0.6936936936936938, 'eval_R_precision': 0.6071428571428571, 'eval_R_recall': 0.5862068965517241, 'eval_R_f1': 0.5964912280701754, 'eval_runtime': 1.3199, 'eval_samples_per_second': 181.838, 'eval_steps_per_second': 6.061, 'epoch': 3.0}\n",
      "{'train_runtime': 85.6207, 'train_samples_per_second': 39.383, 'train_steps_per_second': 2.488, 'train_loss': 0.27078096631547094, 'epoch': 3.0}\n"
     ]
    },
    {
     "data": {
      "text/plain": [
       "TrainOutput(global_step=213, training_loss=0.27078096631547094, metrics={'train_runtime': 85.6207, 'train_samples_per_second': 39.383, 'train_steps_per_second': 2.488, 'total_flos': 80352384837120.0, 'train_loss': 0.27078096631547094, 'epoch': 3.0})"
      ]
     },
     "execution_count": 21,
     "metadata": {},
     "output_type": "execute_result"
    }
   ],
   "source": [
    "trainer.train()"
   ]
  },
  {
   "cell_type": "code",
   "execution_count": 22,
   "metadata": {},
   "outputs": [
    {
     "data": {
      "application/vnd.jupyter.widget-view+json": {
       "model_id": "5bfbd76a124542fdb2bd03a473838113",
       "version_major": 2,
       "version_minor": 0
      },
      "text/plain": [
       "  0%|          | 0/8 [00:00<?, ?it/s]"
      ]
     },
     "metadata": {},
     "output_type": "display_data"
    },
    {
     "data": {
      "text/plain": [
       "{'eval_loss': 0.26187124848365784,\n",
       " 'eval_macro_precision': 0.7016491067338526,\n",
       " 'eval_macro_recall': 0.7629764590201861,\n",
       " 'eval_macro_f1': 0.7292895009957645,\n",
       " 'eval_micro_precision': 0.6951456310679611,\n",
       " 'eval_micro_recall': 0.7955555555555556,\n",
       " 'eval_micro_f1': 0.7419689119170985,\n",
       " 'eval_S_precision': 0.864406779661017,\n",
       " 'eval_S_recall': 0.9026548672566371,\n",
       " 'eval_S_f1': 0.8831168831168832,\n",
       " 'eval_T_precision': 0.5405405405405406,\n",
       " 'eval_T_recall': 0.6862745098039216,\n",
       " 'eval_T_f1': 0.6047516198704104,\n",
       " 'eval_R_precision': 0.7,\n",
       " 'eval_R_recall': 0.7,\n",
       " 'eval_R_f1': 0.7,\n",
       " 'eval_runtime': 3.5869,\n",
       " 'eval_samples_per_second': 66.91,\n",
       " 'eval_steps_per_second': 2.23,\n",
       " 'epoch': 3.0}"
      ]
     },
     "execution_count": 22,
     "metadata": {},
     "output_type": "execute_result"
    }
   ],
   "source": [
    "trainer.evaluate(data_splits['test'])"
   ]
  }
 ],
 "metadata": {
  "kernelspec": {
   "display_name": "advanced_text_analysis_gesis_2024",
   "language": "python",
   "name": "python3"
  },
  "language_info": {
   "codemirror_mode": {
    "name": "ipython",
    "version": 3
   },
   "file_extension": ".py",
   "mimetype": "text/x-python",
   "name": "python",
   "nbconvert_exporter": "python",
   "pygments_lexer": "ipython3",
   "version": "3.11.9"
  }
 },
 "nbformat": 4,
 "nbformat_minor": 2
}
