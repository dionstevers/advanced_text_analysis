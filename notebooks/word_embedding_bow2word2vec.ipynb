{
  "cells": [
    {
      "cell_type": "markdown",
      "metadata": {},
      "source": [
        "# From Bow to Word Embeddings\n",
        "\n",
        "This file shows how different similarities across documents are calculated using BoW, SVD and Word2Vec."
      ]
    },
    {
      "cell_type": "code",
      "execution_count": 1,
      "metadata": {
        "id": "_A2EyKKcmvIJ"
      },
      "outputs": [],
      "source": [
        "# simple document set-up for testing\n",
        "\n",
        "documents = [\n",
        "    # Basic Data Terms\n",
        "    \"Data-driven decision-making is a key factor in business success\",          \n",
        "    \"Predictive analytics and regression models help forecast outcomes in business\",    \n",
        "\n",
        "    # Emotional Language\n",
        "    \"Working with data gives me a sense of purpose and accomplishment\",   \n",
        "    \"The thrill of uncovering insights from data gives me a sense of joy\",         \n",
        "\n",
        "    # Advanced Topics\n",
        "    \"Large-scale transformer models like BERT have changed natural language understanding\",            \n",
        "    \"Large pretrained models like GPT push the boundaries of machine learning with human-like text generation\"    \n",
        "]\n"
      ]
    },
    {
      "cell_type": "markdown",
      "metadata": {
        "id": "ELUrU2d1avZI"
      },
      "source": [
        "# BoW"
      ]
    },
    {
      "cell_type": "code",
      "execution_count": 2,
      "metadata": {
        "id": "wM3hEmD2aouW"
      },
      "outputs": [],
      "source": [
        "import pandas as pd\n",
        "from sklearn.feature_extraction.text import CountVectorizer"
      ]
    },
    {
      "cell_type": "code",
      "execution_count": 3,
      "metadata": {
        "colab": {
          "base_uri": "https://localhost:8080/"
        },
        "id": "ptdljFlza_HP",
        "outputId": "126460c9-bf55-42c4-e268-49958dd8f462"
      },
      "outputs": [
        {
          "name": "stdout",
          "output_type": "stream",
          "text": [
            "   accomplishment  analytics  and  bert  boundaries  business  changed  data  \\\n",
            "0               0          0    0     0           0         1        0     1   \n",
            "1               0          1    1     0           0         1        0     0   \n",
            "2               1          0    1     0           0         0        0     1   \n",
            "3               0          0    0     0           0         0        0     1   \n",
            "4               0          0    0     1           0         0        1     0   \n",
            "5               0          0    0     0           1         0        0     0   \n",
            "\n",
            "   decision  driven  ...  sense  success  text  the  thrill  transformer  \\\n",
            "0         1       1  ...      0        1     0    0       0            0   \n",
            "1         0       0  ...      0        0     0    0       0            0   \n",
            "2         0       0  ...      1        0     0    0       0            0   \n",
            "3         0       0  ...      1        0     0    1       1            0   \n",
            "4         0       0  ...      0        0     0    0       0            1   \n",
            "5         0       0  ...      0        0     1    1       0            0   \n",
            "\n",
            "   uncovering  understanding  with  working  \n",
            "0           0              0     0        0  \n",
            "1           0              0     0        0  \n",
            "2           0              0     1        1  \n",
            "3           1              0     0        0  \n",
            "4           0              1     0        0  \n",
            "5           0              0     1        0  \n",
            "\n",
            "[6 rows x 51 columns]\n"
          ]
        }
      ],
      "source": [
        "# Initialize CountVectorizer\n",
        "vectorizer = CountVectorizer()\n",
        "\n",
        "# Create Bag of Words model\n",
        "X = vectorizer.fit_transform(documents)\n",
        "\n",
        "# Convert BoW to a DataFrame for better readability\n",
        "bow_df = pd.DataFrame(X.toarray(), columns=vectorizer.get_feature_names_out())\n",
        "\n",
        "# Display the BoW DataFrame\n",
        "print(bow_df)"
      ]
    },
    {
      "cell_type": "code",
      "execution_count": 4,
      "metadata": {
        "colab": {
          "base_uri": "https://localhost:8080/"
        },
        "id": "5QN6vbntqgVG",
        "outputId": "ea2af6e8-4511-4847-f791-2cd853ad1459"
      },
      "outputs": [
        {
          "name": "stdout",
          "output_type": "stream",
          "text": [
            "          Doc 0     Doc 1     Doc 2     Doc 3     Doc 4     Doc 5\n",
            "Doc 0  1.000000  0.200000  0.100000  0.084515  0.000000  0.000000\n",
            "Doc 1  0.200000  1.000000  0.100000  0.000000  0.095346  0.074536\n",
            "Doc 2  0.100000  0.100000  1.000000  0.507093  0.000000  0.149071\n",
            "Doc 3  0.084515  0.000000  0.507093  1.000000  0.000000  0.188982\n",
            "Doc 4  0.000000  0.095346  0.000000  0.000000  1.000000  0.284268\n",
            "Doc 5  0.000000  0.074536  0.149071  0.188982  0.284268  1.000000\n"
          ]
        }
      ],
      "source": [
        "from sklearn.metrics.pairwise import cosine_similarity\n",
        "\n",
        "# Calculate the cosine similarity matrix\n",
        "cosine_sim = cosine_similarity(bow_df)\n",
        "\n",
        "# Convert to DataFrame for better readability\n",
        "cosine_sim_df = pd.DataFrame(cosine_sim, index=[f'Doc {i}' for i in range(len(bow_df))],\n",
        "                             columns=[f'Doc {i}' for i in range(len(bow_df))])\n",
        "\n",
        "# Display the Cosine Similarity DataFrame\n",
        "print(cosine_sim_df)\n"
      ]
    },
    {
      "cell_type": "code",
      "execution_count": 5,
      "metadata": {
        "colab": {
          "base_uri": "https://localhost:8080/",
          "height": 825
        },
        "id": "p3GAqD50rKN1",
        "outputId": "3ce4dc72-7cc0-4de7-81d1-98c49a2a13ee"
      },
      "outputs": [
        {
          "data": {
            "image/png": "[encoded data removed]",
            "text/plain": [
              "<Figure size 800x600 with 2 Axes>"
            ]
          },
          "metadata": {},
          "output_type": "display_data"
        }
      ],
      "source": [
        "import seaborn as sns\n",
        "import matplotlib.pyplot as plt\n",
        "\n",
        "\n",
        "# Create a heatmap\n",
        "plt.figure(figsize=(8, 6))\n",
        "sns.heatmap(cosine_sim_df, annot=True, cmap=\"coolwarm\", linewidths=0.5)\n",
        "plt.title('Cosine Similarity Between Documents')\n",
        "plt.show()\n"
      ]
    },
    {
      "cell_type": "markdown",
      "metadata": {
        "id": "A_zh9douDvug"
      },
      "source": [
        "# Vector space models (TF-IDF from Bow)"
      ]
    },
    {
      "cell_type": "code",
      "execution_count": 6,
      "metadata": {
        "colab": {
          "base_uri": "https://localhost:8080/"
        },
        "id": "FHrpz60FD2tI",
        "outputId": "5a447d00-1d61-45c1-f1f7-5f98150df80f"
      },
      "outputs": [
        {
          "name": "stdout",
          "output_type": "stream",
          "text": [
            "   accomplishment  analytics       and      bert  boundaries  business  \\\n",
            "0        0.000000   0.000000  0.000000  0.000000    0.000000  0.276048   \n",
            "1        0.000000   0.343066  0.281319  0.000000    0.000000  0.281319   \n",
            "2        0.369593   0.000000  0.303071  0.000000    0.000000  0.000000   \n",
            "3        0.000000   0.000000  0.000000  0.000000    0.000000  0.000000   \n",
            "4        0.000000   0.000000  0.000000  0.319046    0.000000  0.000000   \n",
            "5        0.000000   0.000000  0.000000  0.000000    0.261126  0.000000   \n",
            "\n",
            "    changed      data  decision    driven  ...     sense   success      text  \\\n",
            "0  0.000000  0.233059  0.336638  0.336638  ...  0.000000  0.336638  0.000000   \n",
            "1  0.000000  0.000000  0.000000  0.000000  ...  0.000000  0.000000  0.000000   \n",
            "2  0.000000  0.255874  0.000000  0.000000  ...  0.303071  0.000000  0.000000   \n",
            "3  0.000000  0.217991  0.000000  0.000000  ...  0.258201  0.000000  0.000000   \n",
            "4  0.319046  0.000000  0.000000  0.000000  ...  0.000000  0.000000  0.000000   \n",
            "5  0.000000  0.000000  0.000000  0.000000  ...  0.000000  0.000000  0.261126   \n",
            "\n",
            "        the    thrill  transformer  uncovering  understanding      with  \\\n",
            "0  0.000000  0.000000     0.000000    0.000000       0.000000  0.000000   \n",
            "1  0.000000  0.000000     0.000000    0.000000       0.000000  0.000000   \n",
            "2  0.000000  0.000000     0.000000    0.000000       0.000000  0.303071   \n",
            "3  0.258201  0.314874     0.000000    0.314874       0.000000  0.000000   \n",
            "4  0.000000  0.000000     0.319046    0.000000       0.319046  0.000000   \n",
            "5  0.214127  0.000000     0.000000    0.000000       0.000000  0.214127   \n",
            "\n",
            "    working  \n",
            "0  0.000000  \n",
            "1  0.000000  \n",
            "2  0.369593  \n",
            "3  0.000000  \n",
            "4  0.000000  \n",
            "5  0.000000  \n",
            "\n",
            "[6 rows x 51 columns]\n"
          ]
        }
      ],
      "source": [
        "from sklearn.feature_extraction.text import TfidfVectorizer\n",
        "\n",
        "# Initialize TfidfVectorizer\n",
        "tfidf_vectorizer = TfidfVectorizer()\n",
        "\n",
        "# Create TF-IDF matrix\n",
        "X_tfidf = tfidf_vectorizer.fit_transform(documents)\n",
        "\n",
        "# Convert TF-IDF matrix to a DataFrame for better readability\n",
        "tfidf_df = pd.DataFrame(X_tfidf.toarray(), columns=tfidf_vectorizer.get_feature_names_out())\n",
        "\n",
        "# Display the TF-IDF DataFrame\n",
        "print(tfidf_df)\n"
      ]
    },
    {
      "cell_type": "code",
      "execution_count": 7,
      "metadata": {
        "colab": {
          "base_uri": "https://localhost:8080/"
        },
        "id": "7JU6duSBEMHc",
        "outputId": "a33a1972-9292-4fe6-fb31-183ae5f553d8"
      },
      "outputs": [
        {
          "name": "stdout",
          "output_type": "stream",
          "text": [
            "          Doc 0     Doc 1     Doc 2     Doc 3     Doc 4     Doc 5\n",
            "Doc 0  1.000000  0.155316  0.059634  0.050805  0.000000  0.000000\n",
            "Doc 1  0.155316  1.000000  0.085260  0.000000  0.052461  0.042937\n",
            "Doc 2  0.059634  0.085260  1.000000  0.402095  0.000000  0.111153\n",
            "Doc 3  0.050805  0.000000  0.402095  1.000000  0.000000  0.134105\n",
            "Doc 4  0.000000  0.052461  0.000000  0.000000  1.000000  0.207992\n",
            "Doc 5  0.000000  0.042937  0.111153  0.134105  0.207992  1.000000\n"
          ]
        }
      ],
      "source": [
        "\n",
        "# Calculate the cosine similarity matrix based on the TF-IDF DataFrame\n",
        "cosine_sim_tfidf = cosine_similarity(tfidf_df)\n",
        "\n",
        "# Convert to DataFrame for better readability\n",
        "cosine_sim_df_tfidf = pd.DataFrame(cosine_sim_tfidf, index=[f'Doc {i}' for i in range(len(tfidf_df))],\n",
        "                             columns=[f'Doc {i}' for i in range(len(tfidf_df))])\n",
        "\n",
        "# Display the Cosine Similarity DataFrame\n",
        "print(cosine_sim_df_tfidf)\n"
      ]
    },
    {
      "cell_type": "code",
      "execution_count": 8,
      "metadata": {
        "colab": {
          "base_uri": "https://localhost:8080/",
          "height": 545
        },
        "id": "4w64t4jHEW0W",
        "outputId": "b447d1a3-2e4d-48b3-eb36-d85c96c01597"
      },
      "outputs": [
        {
          "data": {
            "image/png": "[encoded data removed]",
            "text/plain": [
              "<Figure size 800x600 with 2 Axes>"
            ]
          },
          "metadata": {},
          "output_type": "display_data"
        }
      ],
      "source": [
        "\n",
        "# Create a heatmap\n",
        "plt.figure(figsize=(8, 6))\n",
        "sns.heatmap(cosine_sim_df_tfidf, annot=True, cmap=\"coolwarm\", linewidths=0.5)\n",
        "plt.title('Cosine Similarity Between Documents of the TFIDF')\n",
        "plt.show()\n"
      ]
    },
    {
      "cell_type": "markdown",
      "metadata": {
        "id": "AZYlyeO5a2Om"
      },
      "source": [
        "# SVD and LSA"
      ]
    },
    {
      "cell_type": "code",
      "execution_count": 9,
      "metadata": {
        "colab": {
          "base_uri": "https://localhost:8080/"
        },
        "id": "yYfXFO25jjSF",
        "outputId": "fc319f87-b1c9-468e-dfbc-782f5333daed"
      },
      "outputs": [
        {
          "name": "stdout",
          "output_type": "stream",
          "text": [
            "Topic 1:\n",
            "Positive Associations:\n",
            "purpose: 0.1847\n",
            "accomplishment: 0.1847\n",
            "the: 0.1929\n",
            "and: 0.2000\n",
            "with: 0.2178\n",
            "data: 0.2718\n",
            "sense: 0.2780\n",
            "me: 0.2780\n",
            "gives: 0.2780\n",
            "of: 0.3975\n",
            "\n",
            "Negative Associations:\n",
            "transformer: 0.0458\n",
            "natural: 0.0458\n",
            "understanding: 0.0458\n",
            "bert: 0.0458\n",
            "language: 0.0458\n",
            "scale: 0.0458\n",
            "changed: 0.0458\n",
            "have: 0.0458\n",
            "key: 0.0536\n",
            "success: 0.0536\n",
            "\n",
            "\n",
            "Topic 2:\n",
            "Positive Associations:\n",
            "understanding: 0.2122\n",
            "transformer: 0.2122\n",
            "have: 0.2122\n",
            "changed: 0.2122\n",
            "scale: 0.2122\n",
            "natural: 0.2122\n",
            "language: 0.2122\n",
            "large: 0.2762\n",
            "models: 0.2776\n",
            "like: 0.3784\n",
            "\n",
            "Negative Associations:\n",
            "sense: -0.1554\n",
            "me: -0.1554\n",
            "gives: -0.1554\n",
            "data: -0.1334\n",
            "of: -0.1063\n",
            "working: -0.1009\n",
            "purpose: -0.1009\n",
            "accomplishment: -0.1009\n",
            "uncovering: -0.0887\n",
            "thrill: -0.0887\n",
            "\n",
            "\n",
            "Topic 3:\n",
            "Positive Associations:\n",
            "analytics: 0.2105\n",
            "key: 0.2156\n",
            "making: 0.2156\n",
            "factor: 0.2156\n",
            "is: 0.2156\n",
            "driven: 0.2156\n",
            "decision: 0.2156\n",
            "success: 0.2156\n",
            "in: 0.3494\n",
            "business: 0.3494\n",
            "\n",
            "Negative Associations:\n",
            "of: -0.1374\n",
            "like: -0.1237\n",
            "the: -0.0952\n",
            "large: -0.0762\n",
            "sense: -0.0676\n",
            "gives: -0.0676\n",
            "me: -0.0676\n",
            "with: -0.0675\n",
            "thrill: -0.0581\n",
            "joy: -0.0581\n",
            "\n",
            "\n",
            "Topic 4:\n",
            "Positive Associations:\n",
            "large: 0.0510\n",
            "like: 0.0728\n",
            "data: 0.1543\n",
            "success: 0.2581\n",
            "factor: 0.2581\n",
            "making: 0.2581\n",
            "key: 0.2581\n",
            "is: 0.2581\n",
            "decision: 0.2581\n",
            "driven: 0.2581\n",
            "\n",
            "Negative Associations:\n",
            "and: -0.2562\n",
            "analytics: -0.2529\n",
            "regression: -0.2529\n",
            "predictive: -0.2529\n",
            "outcomes: -0.2529\n",
            "help: -0.2529\n",
            "forecast: -0.2529\n",
            "models: -0.1320\n",
            "accomplishment: -0.0595\n",
            "purpose: -0.0595\n",
            "\n",
            "\n",
            "Topic 5:\n",
            "Positive Associations:\n",
            "sense: 0.0952\n",
            "gives: 0.0952\n",
            "natural: 0.2389\n",
            "scale: 0.2389\n",
            "language: 0.2389\n",
            "have: 0.2389\n",
            "changed: 0.2389\n",
            "transformer: 0.2389\n",
            "understanding: 0.2389\n",
            "bert: 0.2389\n",
            "\n",
            "Negative Associations:\n",
            "boundaries: -0.2153\n",
            "human: -0.2153\n",
            "push: -0.2153\n",
            "machine: -0.2153\n",
            "learning: -0.2153\n",
            "text: -0.2153\n",
            "gpt: -0.2153\n",
            "generation: -0.2153\n",
            "pretrained: -0.2153\n",
            "like: -0.1573\n",
            "\n",
            "\n",
            "Topic 6:\n",
            "Positive Associations:\n",
            "like: 0.0320\n",
            "gives: 0.0376\n",
            "me: 0.0376\n",
            "sense: 0.0376\n",
            "data: 0.0466\n",
            "and: 0.2122\n",
            "with: 0.2911\n",
            "working: 0.3332\n",
            "purpose: 0.3332\n",
            "accomplishment: 0.3332\n",
            "\n",
            "Negative Associations:\n",
            "uncovering: -0.2873\n",
            "thrill: -0.2873\n",
            "insights: -0.2873\n",
            "from: -0.2873\n",
            "joy: -0.2873\n",
            "the: -0.2177\n",
            "of: -0.1521\n",
            "analytics: -0.0744\n",
            "help: -0.0744\n",
            "outcomes: -0.0744\n",
            "\n",
            "\n",
            "\n",
            "Document-Topic Matrix:\n",
            "    Topic 1   Topic 2   Topic 3   Topic 4   Topic 5   Topic 6\n",
            "0  0.240739 -0.010780  0.722457  0.646430 -0.026797  0.037354\n",
            "1  0.260604  0.217776  0.692292 -0.621671 -0.052096 -0.127287\n",
            "2  0.755399 -0.317632 -0.074042 -0.135690  0.156858  0.529134\n",
            "3  0.740523 -0.327735 -0.208253  0.065127  0.098476 -0.535637\n",
            "4  0.217215  0.774247 -0.123370  0.094175  0.573757 -0.008529\n",
            "5  0.468481  0.555621 -0.250580  0.085821 -0.631862  0.049043\n",
            "\n",
            "Explained Variance (Weights) for each Topic:\n",
            "Topic 1 weight: 0.06828940087796444\n",
            "Topic 2 weight: 0.22591700552583036\n",
            "Topic 3 weight: 0.22605521169975135\n",
            "Topic 4 weight: 0.18401618231573783\n",
            "Topic 5 weight: 0.1672872423415612\n",
            "Topic 6 weight: 0.1284349572391542\n"
          ]
        }
      ],
      "source": [
        "import pandas as pd\n",
        "from sklearn.decomposition import TruncatedSVD\n",
        "from sklearn.feature_extraction.text import TfidfVectorizer\n",
        "\n",
        "# Convert documents to TF-IDF matrix\n",
        "vectorizer = TfidfVectorizer()\n",
        "X = vectorizer.fit_transform(documents)\n",
        "\n",
        "# Apply Truncated SVD (LSA)\n",
        "n_components = 6  # Number of topics\n",
        "svd = TruncatedSVD(n_components=n_components)\n",
        "lsa = svd.fit_transform(X)\n",
        "\n",
        "# Get the words associated with each topic\n",
        "terms = vectorizer.get_feature_names_out()\n",
        "\n",
        "for i, topic in enumerate(svd.components_):\n",
        "    print(f\"Topic {i+1}:\")\n",
        "\n",
        "    # Get the top 10 positive words with their coefficients\n",
        "    top_positive = [(terms[j], topic[j]) for j in topic.argsort()[-10:]]  # Highest values\n",
        "    print(\"Positive Associations:\")\n",
        "    for word, value in top_positive:\n",
        "        print(f\"{word}: {value:.4f}\")  # Display word and its coefficient\n",
        "\n",
        "    # Get the top 10 negative words with their coefficients\n",
        "    top_negative = [(terms[j], topic[j]) for j in topic.argsort()[:10]]   # Lowest values\n",
        "    print(\"\\nNegative Associations:\")\n",
        "    for word, value in top_negative:\n",
        "        print(f\"{word}: {value:.4f}\")  # Display word and its coefficient\n",
        "\n",
        "    print(\"\\n\")\n",
        "\n",
        "# Display full document-topic matrix\n",
        "lsa_df = pd.DataFrame(lsa, columns=[f\"Topic {i+1}\" for i in range(n_components)])\n",
        "print(\"\\nDocument-Topic Matrix:\")\n",
        "print(lsa_df)\n",
        "\n",
        "# Display explained variance (dimension weights)\n",
        "print(\"\\nExplained Variance (Weights) for each Topic:\")\n",
        "explained_variance = svd.explained_variance_ratio_\n",
        "for i, weight in enumerate(explained_variance):\n",
        "    print(f\"Topic {i+1} weight: {weight}\")"
      ]
    },
    {
      "cell_type": "markdown",
      "metadata": {
        "id": "N374LcbhuYvz"
      },
      "source": [
        "Maybe\n",
        "\n",
        "**Topic 1: Data-Driven Fulfillment and Purpose**\n",
        "\n",
        "Positive Associations: purpose, working, sense, gives, data\n",
        "Negative Associations: transformer, natural language, understanding, bert, scale\n",
        "\n",
        "\n",
        "**Topic 2: Natural Language Processing and Transformer Models**\n",
        "\n",
        "Positive Associations: understanding, transformer, bert, natural, language\n",
        "Negative Associations: sense, purpose, data, thrill, accomplishment\n",
        "\n",
        "**Topic 3: Data-Driven Business Strategy**\n",
        "\n",
        "Positive Associations: analytics, decision, success, driven, business\n",
        "Negative Associations: sense, thrill, joy, uncovering, purpose\n",
        "\n",
        "**Topic 4: Large-Scale Data and Business Decision-Making**\n",
        "\n",
        "Positive Associations: large, data, success, factor, decision\n",
        "Negative Associations: regression, predictive, analytics, forecast, models\n",
        "\n",
        "**Topic 5: GPT Models and Text Generation**\n",
        "\n",
        "Positive Associations: gpt, generation, learning, text, boundaries\n",
        "Negative Associations: understanding, transformer, natural, bert, language\n",
        "\n",
        "**Topic 6: Predictive Analytics and Insight Discovery**\n",
        "\n",
        "Positive Associations: regression, analytics, uncovering, insights, joy\n",
        "Negative Associations: working, purpose, accomplishment, data, sense"
      ]
    },
    {
      "cell_type": "code",
      "execution_count": 11,
      "metadata": {
        "colab": {
          "base_uri": "https://localhost:8080/"
        },
        "id": "TSqBETOjuDYs",
        "outputId": "6bafb4b2-37af-413b-c9c2-2ebc11c0b265"
      },
      "outputs": [
        {
          "name": "stdout",
          "output_type": "stream",
          "text": [
            "Topic 3 weight: 0.22605521169975135\n",
            "Topic 2 weight: 0.22591700552583036\n",
            "Topic 4 weight: 0.18401618231573783\n",
            "Topic 5 weight: 0.1672872423415612\n",
            "Topic 6 weight: 0.1284349572391542\n",
            "Topic 1 weight: 0.06828940087796444\n"
          ]
        }
      ],
      "source": [
        "sorted_variance = sorted(zip(range(1, n_components + 1), explained_variance), key=lambda x: x[1], reverse=True)\n",
        "for topic, weight in sorted_variance:\n",
        "    print(f\"Topic {topic} weight: {weight}\")"
      ]
    },
    {
      "cell_type": "code",
      "execution_count": 12,
      "metadata": {},
      "outputs": [
        {
          "name": "stdout",
          "output_type": "stream",
          "text": [
            "\n",
            "Cosine Similarity Matrix (SVD Document-Topic):\n",
            "              Doc 1         Doc 2         Doc 3         Doc 4         Doc 5  \\\n",
            "Doc 1  1.000000e+00  1.553155e-01  5.963365e-02  5.080479e-02 -2.001820e-16   \n",
            "Doc 2  1.553155e-01  1.000000e+00  8.525984e-02  4.460032e-16  5.246083e-02   \n",
            "Doc 3  5.963365e-02  8.525984e-02  1.000000e+00  4.020946e-01  2.916936e-16   \n",
            "Doc 4  5.080479e-02  4.460032e-16  4.020946e-01  1.000000e+00  6.235522e-16   \n",
            "Doc 5 -2.001820e-16  5.246083e-02  2.916936e-16  6.235522e-16  1.000000e+00   \n",
            "Doc 6 -2.639733e-16  4.293715e-02  1.111530e-01  1.341052e-01  2.079920e-01   \n",
            "\n",
            "              Doc 6  \n",
            "Doc 1 -2.639733e-16  \n",
            "Doc 2  4.293715e-02  \n",
            "Doc 3  1.111530e-01  \n",
            "Doc 4  1.341052e-01  \n",
            "Doc 5  2.079920e-01  \n",
            "Doc 6  1.000000e+00  \n"
          ]
        },
        {
          "data": {
            "image/png": "[encoded data removed]",
            "text/plain": [
              "<Figure size 800x600 with 2 Axes>"
            ]
          },
          "metadata": {},
          "output_type": "display_data"
        }
      ],
      "source": [
        "# Calculate cosine similarity on the document-topic matrix\n",
        "cosine_sim_svd = cosine_similarity(lsa_df)\n",
        "\n",
        "# Convert to a DataFrame for better visualization\n",
        "cosine_sim_df_svd = pd.DataFrame(cosine_sim_svd, index=[f\"Doc {i+1}\" for i in range(lsa_df.shape[0])],\n",
        "                                 columns=[f\"Doc {i+1}\" for i in range(lsa_df.shape[0])])\n",
        "\n",
        "# Display cosine similarity matrix (document-to-document based on SVD)\n",
        "print(\"\\nCosine Similarity Matrix (SVD Document-Topic):\")\n",
        "print(cosine_sim_df_svd)\n",
        "\n",
        "# Plot the heatmap\n",
        "plt.figure(figsize=(8, 6))\n",
        "sns.heatmap(cosine_sim_df_svd, annot=True, cmap=\"coolwarm\", linewidths=0.5)\n",
        "plt.title('Cosine Similarity Between Documents (SVD Document-Topic)')\n",
        "plt.show()"
      ]
    },
    {
      "cell_type": "markdown",
      "metadata": {
        "id": "t2OI1ynJMjcs"
      },
      "source": [
        "# Word2Vec"
      ]
    },
    {
      "cell_type": "code",
      "execution_count": 40,
      "metadata": {
        "colab": {
          "base_uri": "https://localhost:8080/"
        },
        "id": "jbACQSZWRHWd",
        "outputId": "ea4b7ec4-e082-403f-c3d5-c6f637e4bd2c"
      },
      "outputs": [
        {
          "name": "stderr",
          "output_type": "stream",
          "text": [
            "[nltk_data] Downloading package punkt to\n",
            "[nltk_data]     /Users/lisalechner/nltk_data...\n",
            "[nltk_data]   Package punkt is already up-to-date!\n"
          ]
        }
      ],
      "source": [
        "import nltk\n",
        "from nltk.tokenize import word_tokenize\n",
        "\n",
        "# Download the tokenizer models\n",
        "nltk.download('punkt')\n",
        "\n",
        "# Tokenize the documents\n",
        "tokenized_documents = [word_tokenize(doc.lower()) for doc in documents]\n"
      ]
    },
    {
      "cell_type": "code",
      "execution_count": 32,
      "metadata": {
        "id": "0U-WxWIRRM7N"
      },
      "outputs": [],
      "source": [
        "from gensim.models import Word2Vec\n",
        "\n",
        "# Train the Word2Vec model\n",
        "word2vec_model = Word2Vec(sentences=tokenized_documents, vector_size=100, window=5, min_count=0, workers=4)\n"
      ]
    },
    {
      "cell_type": "code",
      "execution_count": 33,
      "metadata": {
        "colab": {
          "base_uri": "https://localhost:8080/"
        },
        "id": "vgrKqnBpSbIu",
        "outputId": "68383459-2954-4faf-bfff-068efdfb5c9b"
      },
      "outputs": [
        {
          "name": "stdout",
          "output_type": "stream",
          "text": [
            "Number of words in the model: 51\n",
            "Sample words in the model: ['of', 'a', 'models', 'sense', 'like', 'the', 'me', 'gives', 'data', 'in', 'business', 'with', 'and', 'working', 'outcomes', 'forecast', 'generation', 'help', 'analytics', 'predictive', 'success', 'factor', 'key', 'is', 'decision-making', 'regression', 'accomplishment', 'purpose', 'text', 'human-like', 'learning', 'machine', 'boundaries', 'push', 'gpt', 'pretrained', 'large', 'understanding', 'language', 'natural']\n"
          ]
        }
      ],
      "source": [
        "# List all the words in the Word2Vec model's vocabulary\n",
        "vocab_words = list(word2vec_model.wv.key_to_index.keys())\n",
        "\n",
        "# Print the number of words in the vocabulary\n",
        "print(f\"Number of words in the model: {len(vocab_words)}\")\n",
        "\n",
        "# Display the first 10 words in the vocabulary (for example)\n",
        "print(f\"Sample words in the model: {vocab_words[:40]}\")"
      ]
    },
    {
      "cell_type": "markdown",
      "metadata": {
        "id": "0j4G7P0vRblR"
      },
      "source": [
        "Explanation of Parameters:\n",
        "- sentences: The tokenized documents that you are using to train the model.\n",
        "- vector_size: The number of dimensions for the word embeddings.\n",
        "- window: The maximum distance between the current and predicted word (i.e., how many words to the left and right to consider as context).\n",
        "- min_count: Ignores words that appear less than this number of times.\n",
        "- workers: The number of threads to use for training."
      ]
    },
    {
      "cell_type": "code",
      "execution_count": 36,
      "metadata": {
        "colab": {
          "base_uri": "https://localhost:8080/"
        },
        "id": "U9AOZ0LLRvUR",
        "outputId": "93947c04-7871-4211-da6e-4fe751f96708"
      },
      "outputs": [
        {
          "name": "stdout",
          "output_type": "stream",
          "text": [
            "Vector for 'models': [ 8.7465516e-05  3.0715829e-03 -6.8239379e-03 -1.3772795e-03\n",
            "  7.6645324e-03  7.3409048e-03 -3.6847047e-03  2.6534856e-03\n",
            " -8.3120884e-03  6.1996356e-03 -4.6340809e-03 -3.1674309e-03\n",
            "  9.3063209e-03  8.8059058e-04  7.4951285e-03 -6.0781292e-03\n",
            "  5.1624496e-03  9.9238865e-03 -8.4542464e-03 -5.1484457e-03\n",
            " -7.0603471e-03 -4.8643700e-03 -3.7721545e-03 -8.5398415e-03\n",
            "  7.9671778e-03 -4.8472849e-03  8.4254071e-03  5.2668094e-03\n",
            " -6.5553375e-03  3.9647594e-03  5.4765628e-03 -7.4308240e-03\n",
            " -7.3934896e-03 -2.4929810e-03 -8.6264024e-03 -1.5850762e-03\n",
            " -4.0565987e-04  3.2995946e-03  1.4402757e-03 -8.8497426e-04\n",
            " -5.5991937e-03  1.7332054e-03 -9.0454629e-04  6.7876782e-03\n",
            "  3.9749658e-03  4.5177960e-03  1.4375071e-03 -2.6982343e-03\n",
            " -4.3613953e-03 -1.0229285e-03  1.4393821e-03 -2.6496171e-03\n",
            " -7.0736376e-03 -7.8001576e-03 -9.1169430e-03 -5.9348592e-03\n",
            " -1.8411115e-03 -4.3242387e-03 -6.4689866e-03 -3.7118623e-03\n",
            "  4.2855847e-03 -3.7391693e-03  8.3875526e-03  1.5388831e-03\n",
            " -7.2524864e-03  9.4397618e-03  7.6352656e-03  5.5012396e-03\n",
            " -6.8576890e-03  5.8335303e-03  4.0239734e-03  5.1898379e-03\n",
            "  4.2644022e-03  1.9393956e-03 -3.1649894e-03  8.3564743e-03\n",
            "  9.6189110e-03  3.7944622e-03 -2.8400286e-03  5.7720208e-06\n",
            "  1.2148466e-03 -8.4603243e-03 -8.2266759e-03 -2.2397414e-04\n",
            "  1.2391737e-03 -5.7428642e-03 -4.7210502e-03 -7.3451269e-03\n",
            "  8.3326828e-03  1.3413040e-04 -4.5013172e-03  5.7048029e-03\n",
            "  9.1853254e-03 -4.1037560e-03  7.9676742e-03  5.3852699e-03\n",
            "  5.8791665e-03  5.0719420e-04  8.2147839e-03 -7.0164273e-03]\n",
            "Words most similar to 'models': [('have', 0.2123120129108429), ('data', 0.19902415573596954), ('with', 0.17282992601394653), ('human-like', 0.1712489128112793), ('like', 0.17120997607707977)]\n"
          ]
        }
      ],
      "source": [
        "# Get the word vector for a specific word\n",
        "vector = word2vec_model.wv['models']\n",
        "print(\"Vector for 'models':\", vector)\n",
        "\n",
        "# Find similar words to a given word\n",
        "similar_words = word2vec_model.wv.most_similar('models', topn=5)\n",
        "print(\"Words most similar to 'models':\", similar_words)\n"
      ]
    },
    {
      "cell_type": "markdown",
      "metadata": {
        "id": "VvyojAXGS5q3"
      },
      "source": [
        "### use pretrained data"
      ]
    },
    {
      "cell_type": "code",
      "execution_count": 42,
      "metadata": {
        "colab": {
          "base_uri": "https://localhost:8080/"
        },
        "id": "vYa5GaeYS8MC",
        "outputId": "a701a61f-2fab-41a2-dbab-7960061a82eb"
      },
      "outputs": [
        {
          "name": "stdout",
          "output_type": "stream",
          "text": [
            "Vocabulary size: 3000000\n"
          ]
        }
      ],
      "source": [
        "import gensim.downloader as api\n",
        "import gensim\n",
        "\n",
        "# Load the pretrained Word2Vec model\n",
        "model = api.load('word2vec-google-news-300')\n",
        "\n",
        "# Check the size of the vocabulary\n",
        "print(f\"Vocabulary size: {len(model.key_to_index)}\")"
      ]
    },
    {
      "cell_type": "code",
      "execution_count": 43,
      "metadata": {
        "colab": {
          "base_uri": "https://localhost:8080/"
        },
        "id": "h1HUtD4sXLrp",
        "outputId": "48f9d33f-6f79-4616-d05c-400355463ae4"
      },
      "outputs": [
        {
          "name": "stdout",
          "output_type": "stream",
          "text": [
            "Vector for 'models': [ 0.20214844  0.24414062  0.12158203  0.27148438 -0.01782227 -0.03955078\n",
            "  0.20996094 -0.29492188 -0.07080078  0.15527344  0.13085938 -0.02905273\n",
            "  0.07128906 -0.2421875  -0.03662109  0.15234375  0.17480469  0.16308594\n",
            " -0.05175781 -0.24902344 -0.01184082 -0.25390625 -0.33984375 -0.04321289\n",
            "  0.06689453  0.12988281 -0.39257812  0.18847656  0.09521484 -0.25195312\n",
            " -0.02722168  0.09472656 -0.10839844  0.46484375  0.046875   -0.22460938\n",
            "  0.03417969  0.10009766  0.02319336 -0.14550781 -0.0201416   0.08886719\n",
            " -0.16699219  0.16699219  0.203125    0.06542969 -0.20507812 -0.00063705\n",
            "  0.34960938  0.12597656 -0.04077148 -0.13476562 -0.26171875  0.00717163\n",
            "  0.00540161 -0.08349609  0.07373047 -0.16308594 -0.02441406 -0.16992188\n",
            " -0.02819824  0.17675781 -0.28125    -0.11865234  0.04370117  0.18457031\n",
            "  0.16503906  0.45117188 -0.05297852  0.19824219  0.03295898 -0.02197266\n",
            "  0.12158203  0.03833008 -0.08740234  0.03515625 -0.08691406  0.00964355\n",
            "  0.07080078 -0.02624512  0.11914062  0.01757812  0.01989746  0.01831055\n",
            " -0.10058594  0.28320312  0.14453125  0.42382812 -0.01452637  0.3125\n",
            "  0.05493164 -0.37304688 -0.35351562  0.14355469  0.0480957  -0.08300781\n",
            " -0.08349609 -0.17578125  0.23535156  0.0255127   0.19042969 -0.04785156\n",
            " -0.24804688 -0.05639648 -0.01464844  0.06054688 -0.30664062  0.02722168\n",
            "  0.41015625  0.19921875 -0.06982422  0.18261719 -0.18457031  0.15039062\n",
            "  0.05322266 -0.25195312 -0.08642578 -0.26757812 -0.08105469 -0.05419922\n",
            " -0.03149414 -0.078125   -0.04370117  0.03442383  0.34179688  0.20703125\n",
            " -0.15332031  0.22070312  0.10888672  0.23144531 -0.11621094 -0.11425781\n",
            "  0.10888672  0.09863281  0.10888672  0.0324707   0.06152344 -0.11376953\n",
            " -0.05883789 -0.13183594 -0.00372314 -0.02038574 -0.00579834  0.11816406\n",
            "  0.125       0.05737305  0.37304688 -0.05615234  0.08203125 -0.17285156\n",
            " -0.171875   -0.26367188 -0.2734375  -0.07519531  0.1171875   0.07958984\n",
            " -0.3671875   0.08251953  0.08447266 -0.01385498  0.22363281  0.04077148\n",
            " -0.06445312  0.1015625  -0.10839844  0.05200195  0.00848389  0.13671875\n",
            " -0.14355469 -0.08935547 -0.08300781  0.01818848 -0.10742188  0.00482178\n",
            "  0.06176758  0.11376953  0.18359375 -0.28515625 -0.453125    0.34375\n",
            " -0.25390625 -0.18847656 -0.13378906 -0.00759888  0.18554688  0.06640625\n",
            " -0.03466797  0.00384521 -0.07568359 -0.03613281 -0.07128906 -0.15039062\n",
            " -0.02746582 -0.16894531 -0.13476562 -0.01184082  0.1953125  -0.27929688\n",
            "  0.10693359 -0.07421875  0.02746582 -0.15332031 -0.14160156  0.06152344\n",
            " -0.10839844  0.04736328  0.1328125  -0.18457031 -0.078125   -0.10449219\n",
            " -0.11816406  0.32226562  0.01422119  0.12597656 -0.12060547  0.02478027\n",
            "  0.15234375  0.00817871 -0.00772095  0.19628906 -0.03088379  0.14453125\n",
            "  0.04614258  0.14941406 -0.0625     -0.11865234 -0.19433594 -0.03344727\n",
            "  0.09375    -0.08935547 -0.09960938  0.08349609  0.25390625 -0.15625\n",
            "  0.00476074  0.05859375 -0.09423828 -0.08251953  0.19824219 -0.09912109\n",
            "  0.34960938  0.06933594 -0.23339844  0.01519775 -0.34765625 -0.140625\n",
            " -0.24414062  0.359375    0.14257812  0.14355469  0.203125    0.30664062\n",
            " -0.04394531 -0.17285156 -0.18164062  0.04931641  0.07470703  0.09863281\n",
            " -0.11962891 -0.09570312  0.18652344 -0.03100586 -0.08300781  0.12792969\n",
            "  0.12890625  0.14160156 -0.04858398  0.19238281  0.15429688  0.11523438\n",
            " -0.10693359  0.13476562 -0.16113281  0.00656128  0.16015625  0.09912109\n",
            " -0.02941895  0.23632812 -0.10644531  0.05981445 -0.08447266  0.09716797\n",
            "  0.11376953 -0.1484375   0.11181641 -0.01483154  0.01843262 -0.14550781\n",
            "  0.07714844 -0.09667969 -0.203125    0.17480469 -0.14355469 -0.00842285\n",
            "  0.22949219  0.2265625  -0.06396484  0.09570312 -0.00125885 -0.05517578]\n",
            "Words most similar to 'models': [('model', 0.7446277141571045), ('Models', 0.6510389447212219), ('Amazonian_goddesses', 0.5330929756164551), ('Forfour', 0.5198115706443787), ('sporty_hatchback', 0.5123456716537476)]\n"
          ]
        }
      ],
      "source": [
        "# Example: Get the vector for a word\n",
        "vector = model['models']\n",
        "print(f\"Vector for 'models': {vector}\")\n",
        "\n",
        "# Find similar words\n",
        "similar_words = model.most_similar('models', topn=5)\n",
        "print(f\"Words most similar to 'models': {similar_words}\")\n"
      ]
    },
    {
      "cell_type": "code",
      "execution_count": 10,
      "metadata": {
        "colab": {
          "base_uri": "https://localhost:8080/",
          "height": 176
        },
        "id": "hteIeITITGoB",
        "outputId": "d8280669-34c6-4527-c728-b843a504ff91"
      },
      "outputs": [
        {
          "ename": "NameError",
          "evalue": "name 'model' is not defined",
          "output_type": "error",
          "traceback": [
            "\u001b[1;31m---------------------------------------------------------------------------\u001b[0m",
            "\u001b[1;31mNameError\u001b[0m                                 Traceback (most recent call last)",
            "Cell \u001b[1;32mIn[10], line 2\u001b[0m\n\u001b[0;32m      1\u001b[0m \u001b[38;5;66;03m# Save the pretrained model locally (I do not want to load it again)\u001b[39;00m\n\u001b[1;32m----> 2\u001b[0m model\u001b[38;5;241m.\u001b[39msave(\u001b[38;5;124m'\u001b[39m\u001b[38;5;124mword2vec-google-news-300.model\u001b[39m\u001b[38;5;124m'\u001b[39m)\n\u001b[0;32m      4\u001b[0m \u001b[38;5;66;03m# Load the saved model\u001b[39;00m\n\u001b[0;32m      5\u001b[0m loaded_model \u001b[38;5;241m=\u001b[39m gensim\u001b[38;5;241m.\u001b[39mmodels\u001b[38;5;241m.\u001b[39mKeyedVectors\u001b[38;5;241m.\u001b[39mload(\u001b[38;5;124m'\u001b[39m\u001b[38;5;124mword2vec-google-news-300.model\u001b[39m\u001b[38;5;124m'\u001b[39m)\n",
            "\u001b[1;31mNameError\u001b[0m: name 'model' is not defined"
          ]
        }
      ],
      "source": [
        "# Save the pretrained model locally (I do not want to load it again)\n",
        "model.save('word2vec-google-news-300.model')\n",
        "\n",
        "# Load the saved model\n",
        "loaded_model = gensim.models.KeyedVectors.load('word2vec-google-news-300.model')\n"
      ]
    },
    {
      "cell_type": "code",
      "execution_count": 50,
      "metadata": {
        "colab": {
          "base_uri": "https://localhost:8080/",
          "height": 211
        },
        "id": "Zlx_GWjVTemt",
        "outputId": "24dc5761-dfc9-4624-815d-d328aad9293a"
      },
      "outputs": [
        {
          "name": "stdout",
          "output_type": "stream",
          "text": [
            "[array([ 6.76015243e-02, -2.54160557e-02,  8.54492188e-04, -3.11686192e-02,\n",
            "       -1.79036462e-03,  2.85034180e-02,  3.07312012e-02, -8.61002579e-02,\n",
            "        1.36515304e-01,  1.10178627e-01, -2.36714687e-02, -7.58565292e-02,\n",
            "        1.12955727e-01,  1.24511719e-02, -9.00065079e-02,  8.28450546e-02,\n",
            "        9.38313827e-02, -1.79036462e-03, -4.01611328e-02, -1.06445312e-01,\n",
            "       -1.07991539e-01,  7.50325546e-02, -7.45188370e-02,  7.35066757e-02,\n",
            "        3.46679688e-02,  4.19311523e-02, -8.05028304e-02,  4.35791016e-02,\n",
            "       -3.33658862e-03,  6.11572266e-02,  1.26139328e-01, -1.40055344e-01,\n",
            "        8.35978165e-02, -1.48518884e-03,  8.95589218e-02,  8.82975236e-02,\n",
            "       -6.58365861e-02,  7.85318986e-02,  8.82720947e-02, -9.98942088e-03,\n",
            "        1.62272140e-01,  1.37939453e-02, -7.99357072e-02,  9.36889648e-02,\n",
            "       -5.25919609e-02, -9.24110413e-02,  1.23901367e-02,  3.43500786e-02,\n",
            "        6.05875663e-02,  1.10270180e-01,  1.61539707e-02,  8.17464218e-02,\n",
            "       -3.69466133e-02, -2.75878906e-02,  2.29492188e-02,  4.91205836e-03,\n",
            "       -6.01399727e-02,  1.84783936e-02,  1.14621483e-01, -5.90006523e-02,\n",
            "       -2.10367832e-02,  1.17197670e-01, -1.49373367e-01, -3.51562500e-02,\n",
            "       -3.97338867e-02,  1.97143555e-02,  1.28987627e-02,  1.29145309e-01,\n",
            "       -3.21655273e-02,  6.52669296e-02, -6.01476021e-02, -8.13395157e-02,\n",
            "        1.13136292e-01, -4.21142578e-03, -1.93074550e-02, -3.77502441e-02,\n",
            "        1.18733726e-01,  9.86531600e-02, -2.39919033e-02,  1.59423828e-01,\n",
            "       -4.22261544e-02, -9.25521851e-02,  6.24491386e-02, -2.22218838e-02,\n",
            "       -6.02213526e-03, -1.34510040e-01, -9.51334611e-02,  1.53564453e-01,\n",
            "        3.53800468e-02,  4.67936182e-03,  1.66951492e-01, -4.76481132e-02,\n",
            "       -6.42649317e-03, -1.10188805e-01,  4.72513847e-02, -1.64713547e-01,\n",
            "        5.41178398e-02,  2.29899082e-02, -1.71407070e-02, -4.31823730e-03,\n",
            "        1.25223799e-02,  3.34879570e-02,  2.52736416e-02,  1.73492432e-02,\n",
            "       -7.05159530e-02, -8.53678361e-02, -6.96411133e-02, -2.95206700e-02,\n",
            "        6.73116073e-02, -4.90315743e-02,  5.75764989e-03, -7.22656250e-02,\n",
            "       -1.50747940e-01, -3.92659493e-02,  1.39119461e-01,  2.19116211e-02,\n",
            "        5.20833349e-03, -2.04874668e-02,  1.16048180e-01,  6.67317724e-03,\n",
            "       -5.31260185e-02,  8.49137306e-02, -8.21126327e-02,  8.51287842e-02,\n",
            "       -7.82063827e-02, -5.57454443e-03,  1.30818682e-02,  3.90828438e-02,\n",
            "       -1.87123623e-02,  1.48274735e-01,  2.74658203e-02, -6.38020858e-02,\n",
            "       -1.02030439e-02, -5.61307259e-02,  3.00165806e-02,  2.90870667e-02,\n",
            "        5.29301949e-02, -2.88899746e-02, -4.33756523e-02,  1.49444580e-01,\n",
            "        8.19091797e-02, -6.54500350e-02,  1.39867142e-01, -6.69352198e-03,\n",
            "        1.43636065e-02, -7.50325546e-02,  5.43670654e-02,  4.20888253e-02,\n",
            "       -8.76871776e-03,  5.95092773e-03,  5.70882149e-02,  7.13348389e-02,\n",
            "        1.58691406e-03,  1.70857742e-01, -7.32027665e-02,  2.75472011e-02,\n",
            "       -8.56526662e-03, -1.17950439e-01,  2.65706386e-02, -6.99768066e-02,\n",
            "       -3.56953926e-02, -3.28063965e-02,  4.85649109e-02,  2.87450161e-02,\n",
            "        2.89510097e-02, -3.96830253e-02, -9.80122853e-03, -4.09495048e-02,\n",
            "        4.48710136e-02,  5.53385401e-03, -1.16068520e-01, -9.44010392e-02,\n",
            "        3.48167419e-02, -1.54459640e-01,  1.00657148e-02,  6.51448593e-02,\n",
            "        7.84505233e-02, -1.47786453e-01, -4.35384102e-02,  8.05435181e-02,\n",
            "       -1.05326332e-01, -3.79231758e-02, -8.90858937e-03, -8.70361328e-02,\n",
            "       -4.54915352e-02,  3.02124023e-02, -5.04442863e-02,  7.46256486e-02,\n",
            "        3.96728516e-02,  3.91235352e-02,  1.95312500e-02,  3.55885811e-02,\n",
            "        4.51660156e-03, -8.99759959e-03, -1.07788086e-01, -1.26139326e-02,\n",
            "       -4.11275215e-02, -4.18701172e-02,  1.88395176e-02, -1.25976562e-01,\n",
            "        9.82259139e-02,  7.84912109e-02, -7.68330917e-02, -1.12996422e-01,\n",
            "       -7.89184570e-02, -8.42692032e-02,  3.15348315e-03, -4.11987305e-02,\n",
            "        5.66889457e-02,  5.43619804e-02,  6.02213554e-02,  1.24674477e-01,\n",
            "       -7.34049454e-02,  9.80021134e-02, -9.02506486e-02, -2.53906250e-02,\n",
            "        1.73909500e-01, -7.58870468e-02, -9.51334611e-02,  1.95821121e-01,\n",
            "       -4.12190743e-02,  1.36311853e-03, -2.48546600e-02, -8.04341659e-02,\n",
            "       -1.73645020e-02, -5.26987724e-02,  1.93506870e-02, -2.49582920e-02,\n",
            "        2.64485687e-04, -1.37634277e-02, -1.17980957e-01,  2.48209643e-03,\n",
            "        5.03540039e-03, -4.88281250e-04, -3.04412842e-02, -1.18967690e-01,\n",
            "       -2.75878906e-02, -2.54007969e-02, -5.55623360e-02,  8.41267873e-03,\n",
            "       -7.52766908e-04,  1.38244629e-02,  1.99279785e-02, -5.84309883e-02,\n",
            "        1.26953125e-01, -6.55721053e-02,  4.50642891e-02, -8.24991893e-03,\n",
            "        1.09247841e-01, -6.78304061e-02, -6.55924454e-02, -8.71785451e-03,\n",
            "        1.14440918e-01,  5.61930351e-02,  4.20125341e-03,  2.70589199e-02,\n",
            "        4.28670235e-02,  8.25398788e-02, -1.31673172e-01, -1.12406416e-02,\n",
            "        4.17938232e-02, -8.04443359e-02, -2.23388672e-02,  1.44775391e-01,\n",
            "       -9.56471730e-03,  1.83878586e-01, -5.69661474e-03, -1.19486488e-01,\n",
            "       -1.04207359e-01, -1.64428711e-01, -4.99267578e-02,  3.85233574e-02,\n",
            "       -8.61816406e-02, -7.21842423e-02, -5.12695312e-03, -3.38134766e-02,\n",
            "       -2.45361328e-02, -4.21956368e-02, -1.00870766e-01, -1.36271164e-01,\n",
            "        5.59387207e-02, -2.85847988e-02,  1.43737793e-02,  5.22918701e-02,\n",
            "       -6.62612915e-02, -2.81778979e-03, -1.15152992e-01,  6.45446777e-03,\n",
            "       -7.69042969e-02, -4.97639962e-02, -1.29679367e-01,  5.81461601e-02,\n",
            "       -8.13802108e-05, -4.11783867e-02, -5.28971374e-04, -3.38134766e-02,\n",
            "        7.71891251e-02,  3.92150879e-02,  4.88726310e-02,  4.94588204e-02],\n",
            "      dtype=float32), array([ 0.06365289, -0.01548937,  0.08835178,  0.08795844, -0.03504774,\n",
            "        0.03449164,  0.00659858, -0.12647162,  0.09798177, -0.00265842,\n",
            "       -0.06719293, -0.07747396,  0.02794467,  0.09722222, -0.04654948,\n",
            "        0.04736328,  0.08243815,  0.13842773, -0.00764974, -0.18436687,\n",
            "       -0.05928548,  0.01920573, -0.1062283 ,  0.02884928, -0.02443441,\n",
            "        0.02932061, -0.12456428,  0.14322917, -0.06152794, -0.07788086,\n",
            "       -0.01206462, -0.03654988, -0.08010525,  0.03124322, -0.0844591 ,\n",
            "        0.02524143, -0.07210287,  0.04314847,  0.06195407, -0.01794434,\n",
            "        0.10031467,  0.05466037, -0.0183648 ,  0.06763373,  0.01535373,\n",
            "       -0.10017904, -0.15353733, -0.03897052, -0.02672662,  0.08266873,\n",
            "       -0.02495999, -0.00805664, -0.21179199, -0.03110419,  0.04017809,\n",
            "        0.00963593, -0.04421658, -0.09845225,  0.10244412, -0.09727308,\n",
            "       -0.06302558,  0.06708442, -0.07703993, -0.06995053, -0.01580132,\n",
            "        0.2000868 ,  0.06617567,  0.2122362 ,  0.04770745, -0.07819282,\n",
            "        0.0454678 , -0.07237414,  0.15235731, -0.0295851 , -0.05499268,\n",
            "       -0.10518392,  0.17453343,  0.00783963,  0.00713433,  0.03053114,\n",
            "       -0.04121907,  0.0637207 , -0.04057482, -0.00642225,  0.02107747,\n",
            "        0.00322808, -0.02216254,  0.17829047, -0.00754123,  0.03263346,\n",
            "        0.22018772, -0.23399523, -0.17732239,  0.02346463, -0.05984158,\n",
            "       -0.12668186,  0.03827582, -0.06122504,  0.12978108, -0.01996867,\n",
            "        0.148919  , -0.10864936, -0.02678426, -0.07822333,  0.04060872,\n",
            "        0.06075032, -0.21832953,  0.0779758 ,  0.15015326, -0.03480063,\n",
            "        0.06848145,  0.04298231, -0.09950086, -0.00870429,  0.12912327,\n",
            "        0.01398383, -0.00134956, -0.05203586,  0.12965223,  0.0398763 ,\n",
            "       -0.05437554,  0.08937825, -0.07793511,  0.02126397,  0.09486219,\n",
            "        0.09426541, -0.10492621,  0.12320963, -0.00585938,  0.05615234,\n",
            "       -0.08200412, -0.11260308,  0.01896837, -0.05076684, -0.00205994,\n",
            "       -0.0492079 ,  0.10469225,  0.01578776,  0.01299371,  0.11760797,\n",
            "        0.03936768, -0.1768731 , -0.02824911,  0.12363042,  0.01665582,\n",
            "       -0.1325141 ,  0.08789062, -0.06095378,  0.00044759, -0.01866319,\n",
            "       -0.04633162, -0.04741414, -0.15407985,  0.1519911 , -0.02001953,\n",
            "       -0.05118815, -0.07158746,  0.01838515, -0.02074178, -0.04325358,\n",
            "       -0.06890191,  0.04432509,  0.02324422,  0.05733744,  0.01024034,\n",
            "        0.07733832,  0.06949531,  0.00507609, -0.04012723, -0.04503038,\n",
            "       -0.03908624, -0.05415853, -0.10262045, -0.05241564,  0.11016168,\n",
            "        0.0043335 ,  0.17862956, -0.06577894, -0.07644314,  0.0630205 ,\n",
            "       -0.18401422, -0.06602478,  0.12353516,  0.00150214, -0.02783203,\n",
            "       -0.04894342, -0.07444848,  0.15136041,  0.07600912,  0.03369141,\n",
            "       -0.10696072, -0.02367486, -0.05787489, -0.08435059, -0.08281793,\n",
            "       -0.00926378,  0.16421169, -0.12415907,  0.0707194 , -0.20431858,\n",
            "       -0.11220974, -0.07944404, -0.09386529, -0.06199815, -0.11737739,\n",
            "       -0.00978258,  0.1050326 , -0.10416327,  0.03329468, -0.15991211,\n",
            "       -0.03621419,  0.0323622 , -0.03607178,  0.08099365, -0.15809461,\n",
            "       -0.05803765,  0.1884223 , -0.00508626, -0.01594035,  0.08312988,\n",
            "       -0.03672282,  0.12167697,  0.06068251, -0.14269342, -0.00664436,\n",
            "       -0.08566623,  0.08412679,  0.02851359, -0.03097534,  0.00447591,\n",
            "       -0.0309923 ,  0.04375882,  0.12014432, -0.10078939, -0.06974623,\n",
            "        0.00977241, -0.10842557, -0.09617445,  0.15715197,  0.01502355,\n",
            "        0.11916775, -0.017512  , -0.07593112, -0.00812446, -0.11848959,\n",
            "       -0.07324219, -0.0398763 ,  0.20747206,  0.01255629, -0.19384766,\n",
            "        0.04899089,  0.06840685, -0.03750271,  0.03216553, -0.06382921,\n",
            "       -0.04347399,  0.01959907, -0.0457628 , -0.14617242, -0.06755236,\n",
            "        0.04637315,  0.03087023,  0.01074219,  0.16286892,  0.02522787,\n",
            "        0.02558051,  0.029324  , -0.08266873, -0.08181424, -0.02400716,\n",
            "        0.01615397,  0.16491021, -0.05408054, -0.07473755,  0.05855306,\n",
            "        0.05043538, -0.04130046,  0.16916233,  0.10647244,  0.04533047,\n",
            "       -0.0489095 , -0.00490994,  0.04607476, -0.00254991, -0.10379876,\n",
            "       -0.0862698 , -0.02654351,  0.00079346, -0.00058153, -0.0318061 ,\n",
            "       -0.04645453,  0.16086155, -0.05288357, -0.00326877,  0.09104072,\n",
            "        0.05711534,  0.0907864 ,  0.05897352,  0.04873149, -0.02181668],\n",
            "      dtype=float32), array([ 0.0579834 , -0.00962448,  0.02098846,  0.03213501, -0.01403999,\n",
            "       -0.00610352,  0.02204132, -0.07299805,  0.05859375,  0.05165863,\n",
            "       -0.1352539 , -0.11773682, -0.00427246, -0.04316711, -0.08612061,\n",
            "        0.13232422,  0.02005005,  0.17340088, -0.05319786, -0.16561127,\n",
            "       -0.06817627,  0.10796356, -0.0300827 ,  0.06985474,  0.11300659,\n",
            "       -0.04083252, -0.03865051,  0.06880188, -0.12710571,  0.07220459,\n",
            "        0.07318115, -0.0710144 ,  0.0350647 ,  0.02375793,  0.08111572,\n",
            "       -0.03005981,  0.0513916 , -0.01383591,  0.08795166,  0.0737381 ,\n",
            "        0.07392883,  0.06033325,  0.05224609,  0.06005859, -0.03068542,\n",
            "       -0.0369339 , -0.02832031,  0.05574036,  0.04815674,  0.08059692,\n",
            "       -0.05583191, -0.00340271,  0.03318787, -0.02505493,  0.09850693,\n",
            "        0.05977154, -0.05401611, -0.04973602,  0.07605743, -0.14700317,\n",
            "        0.05973816,  0.04333496, -0.13105774, -0.09068918, -0.06899261,\n",
            "        0.04940414, -0.09941101,  0.07946777, -0.08178711, -0.0668335 ,\n",
            "       -0.00128174, -0.00825119,  0.06756592, -0.02871513, -0.01987076,\n",
            "       -0.11131287,  0.09039307,  0.13012695,  0.0730896 ,  0.169693  ,\n",
            "       -0.03799629, -0.02911377,  0.0438118 ,  0.00732422,  0.0096848 ,\n",
            "       -0.10778809, -0.0584259 ,  0.02676678,  0.00833321,  0.03845787,\n",
            "        0.05317307, -0.06100464, -0.06587219, -0.06225586,  0.03831482,\n",
            "       -0.06675529,  0.07733154,  0.09365845,  0.02587891, -0.05154419,\n",
            "       -0.05078125, -0.05429077, -0.00935364,  0.02983284, -0.0043602 ,\n",
            "        0.08166504, -0.05773616,  0.00921631, -0.00602722, -0.04144859,\n",
            "       -0.11077118, -0.02018356, -0.02648926, -0.00564575,  0.08209229,\n",
            "        0.13024902, -0.02249593,  0.04492188,  0.07260132,  0.06031799,\n",
            "       -0.1281128 , -0.02139282, -0.05754089,  0.1039238 , -0.04623413,\n",
            "        0.0142746 , -0.05142593, -0.05680084,  0.06159973,  0.13305664,\n",
            "       -0.08837891, -0.09503937, -0.07617188,  0.07100105,  0.03199768,\n",
            "       -0.07341003,  0.0345993 ,  0.11121368, -0.0633316 ,  0.02777481,\n",
            "        0.03527832, -0.04347229, -0.01620483,  0.01302338, -0.03966522,\n",
            "       -0.02148438, -0.10770416, -0.09667969, -0.01404762, -0.08177185,\n",
            "        0.08827972,  0.10832798, -0.09529877,  0.15588379, -0.00785828,\n",
            "        0.07783508, -0.06700897, -0.12536621, -0.15744019, -0.08679199,\n",
            "        0.02823639,  0.01935577, -0.03132629,  0.12400818,  0.00734711,\n",
            "       -0.12109375, -0.00488281, -0.01464844,  0.03538513,  0.06149292,\n",
            "       -0.02049255, -0.0449295 , -0.04443741, -0.0697937 , -0.05458069,\n",
            "       -0.03192139,  0.03504562, -0.1517334 , -0.00853729, -0.03062439,\n",
            "       -0.18370056, -0.03451538,  0.02999878, -0.0872345 , -0.03520012,\n",
            "       -0.09538269, -0.08662415, -0.04296875,  0.09312439, -0.01074219,\n",
            "       -0.14120388, -0.02272797,  0.05326462, -0.07119751, -0.06761169,\n",
            "       -0.01485443,  0.02075195,  0.06090164, -0.0296936 , -0.10691833,\n",
            "       -0.05207062,  0.08766174, -0.06999969,  0.01752186, -0.05985832,\n",
            "        0.02322674, -0.06682587,  0.02009583,  0.034729  , -0.00428009,\n",
            "        0.02235413,  0.11135864, -0.07550049,  0.05581427, -0.12643433,\n",
            "        0.0812397 ,  0.07089233,  0.1751709 , -0.05166626,  0.03939819,\n",
            "       -0.06320572,  0.03643799,  0.018116  ,  0.01234436, -0.0227356 ,\n",
            "       -0.03773499,  0.01195526,  0.02636719,  0.03057861,  0.0715332 ,\n",
            "       -0.02942657,  0.03622437,  0.05761719,  0.03471375, -0.00642395,\n",
            "       -0.00683594, -0.04373169, -0.0328064 ,  0.04544067,  0.00030518,\n",
            "        0.06811523,  0.02096558, -0.00195312, -0.08233643,  0.0083313 ,\n",
            "        0.0930748 ,  0.05024338,  0.11940002,  0.01519775, -0.02883625,\n",
            "       -0.06067276,  0.0798645 , -0.00762177,  0.05487442,  0.02554321,\n",
            "       -0.0152781 ,  0.02705002, -0.08028984, -0.11006165, -0.02057266,\n",
            "       -0.0402832 , -0.04890347, -0.08724976,  0.01791382, -0.02154541,\n",
            "        0.10564423,  0.14643097, -0.11584473, -0.14117432, -0.02706909,\n",
            "       -0.00430298,  0.03701782,  0.1531372 ,  0.09513855,  0.10592651,\n",
            "       -0.06808472, -0.03284073, -0.10392761, -0.00597382, -0.03515625,\n",
            "       -0.05433655, -0.03540039,  0.06913567,  0.12179565, -0.02441406,\n",
            "        0.01574707, -0.0770874 , -0.01165009,  0.03720093,  0.01107025,\n",
            "       -0.14303589,  0.0726738 , -0.13009644, -0.0625    , -0.17980957,\n",
            "        0.04684067,  0.01489258,  0.03962708, -0.01667786, -0.07233906],\n",
            "      dtype=float32), array([ 0.08305664, -0.06801977,  0.02178392, -0.03022461, -0.02672882,\n",
            "       -0.05214844,  0.02143555, -0.0802124 ,  0.06740723,  0.05950318,\n",
            "       -0.0456543 , -0.12783203,  0.07683716,  0.02453613, -0.1033081 ,\n",
            "        0.12214661, -0.02702026,  0.2196289 , -0.06222381, -0.1395752 ,\n",
            "       -0.00422974,  0.04872436, -0.00287323,  0.07145004,  0.08216362,\n",
            "       -0.0407486 , -0.03190918,  0.09953614, -0.04419098, -0.02255859,\n",
            "       -0.03322754, -0.06617431,  0.00737305,  0.11147728, -0.04436035,\n",
            "       -0.04957886, -0.01690369, -0.0302124 ,  0.08797608,  0.11381836,\n",
            "        0.03803711, -0.01950684,  0.06682129,  0.04037476, -0.02331543,\n",
            "       -0.03516998, -0.02895508,  0.07824707,  0.07185058,  0.08327637,\n",
            "       -0.0564209 ,  0.12050781, -0.02142334,  0.04482422,  0.01217957,\n",
            "        0.03913651, -0.04421387, -0.11604004,  0.11502819, -0.10720215,\n",
            "        0.01529541, -0.03166504, -0.02269287, -0.05015564, -0.06305542,\n",
            "        0.03935242, -0.0635498 ,  0.09363289, -0.00544739,  0.01257324,\n",
            "        0.06102905, -0.04638367,  0.12636718, -0.04205475,  0.01508484,\n",
            "       -0.09781494,  0.08286133,  0.11829834,  0.09223633,  0.10788574,\n",
            "       -0.0602356 ,  0.03574219,  0.09539185, -0.01844482, -0.03530274,\n",
            "       -0.1237793 , -0.10847168,  0.04630127, -0.04990082,  0.03556366,\n",
            "        0.09142761,  0.02260742, -0.12001343, -0.00373535, -0.0583374 ,\n",
            "       -0.03328552,  0.00406799,  0.13826904,  0.08331299, -0.08696289,\n",
            "       -0.02759266, -0.01867676,  0.08812256, -0.01249771,  0.00883884,\n",
            "        0.05690689,  0.00164433,  0.02506714,  0.00437012, -0.11611328,\n",
            "       -0.01796875,  0.08111878,  0.03359985,  0.0276886 ,  0.10305176,\n",
            "        0.07916565, -0.03746695,  0.00615234,  0.14663085,  0.02558594,\n",
            "       -0.15998535,  0.02755156, -0.11104736,  0.03996582, -0.00158691,\n",
            "       -0.00783691, -0.0371582 , -0.00457153, -0.04394531,  0.17319337,\n",
            "       -0.13735962, -0.15589905, -0.09512329,  0.03852539,  0.09488831,\n",
            "       -0.10117187,  0.09023438,  0.03452759, -0.02400818,  0.09687805,\n",
            "        0.01140137, -0.09382324, -0.05926819,  0.03671875,  0.00586243,\n",
            "       -0.07175903, -0.006073  , -0.01414795, -0.0473114 , -0.11988831,\n",
            "        0.10388489,  0.07608642, -0.084375  ,  0.18615723,  0.00661621,\n",
            "        0.03198242, -0.04570312, -0.06568909, -0.20272522, -0.11152343,\n",
            "        0.0142334 ,  0.05038452, -0.0970581 ,  0.0770752 , -0.0321167 ,\n",
            "       -0.09484863,  0.06541748, -0.00873413, -0.01431503,  0.05226593,\n",
            "       -0.04997406,  0.00877686, -0.11523743, -0.09106445, -0.0284378 ,\n",
            "       -0.05640869, -0.02547607, -0.09260254, -0.0136673 , -0.06661987,\n",
            "       -0.15061036,  0.01568604,  0.10147705, -0.14550781, -0.115831  ,\n",
            "       -0.05534668, -0.08745117, -0.00942383,  0.07054444, -0.03666992,\n",
            "       -0.11104736, -0.01470947,  0.11928711, -0.03369141, -0.08548584,\n",
            "        0.03636169, -0.03925781, -0.06001892, -0.06877442, -0.05962525,\n",
            "       -0.01560059, -0.03399658, -0.12164917, -0.03962631,  0.04131012,\n",
            "        0.08988037, -0.08283081,  0.00761719, -0.02630615,  0.01373901,\n",
            "       -0.04127197,  0.14222412, -0.07430725,  0.06014099, -0.128479  ,\n",
            "        0.01320648,  0.07614746,  0.07001953,  0.01308594, -0.04244385,\n",
            "       -0.03721924, -0.05993652, -0.01021423, -0.03271484, -0.08073731,\n",
            "       -0.04543457,  0.01820679, -0.01443787, -0.0073452 , -0.03001709,\n",
            "       -0.02276611,  0.01455078,  0.05461426,  0.06883545,  0.05954056,\n",
            "       -0.02957764, -0.01320801,  0.00631714,  0.01212158,  0.03267517,\n",
            "        0.04960823, -0.03010864, -0.10431518, -0.04139099, -0.01750793,\n",
            "        0.12520751,  0.05168457,  0.10023193,  0.04051514,  0.00542221,\n",
            "        0.0447998 ,  0.07122803,  0.04671631,  0.08265381, -0.04328003,\n",
            "       -0.00385742,  0.02592773, -0.09506836, -0.13000488, -0.06894531,\n",
            "        0.00980225, -0.05475082, -0.1360962 ,  0.08862305, -0.0784668 ,\n",
            "        0.08377457,  0.07450867, -0.04238587, -0.06740723, -0.06137695,\n",
            "        0.00756226,  0.08376465,  0.13032837,  0.00608215,  0.16324463,\n",
            "       -0.05682373, -0.07068787,  0.03237305,  0.03992309, -0.02941284,\n",
            "       -0.0616333 , -0.09681244,  0.03162231,  0.06311035,  0.0005127 ,\n",
            "        0.02991943, -0.07692871,  0.07988892, -0.03193359,  0.00577393,\n",
            "       -0.08516846,  0.01498566, -0.12846145, -0.09598389, -0.14069824,\n",
            "        0.00090637,  0.03776245, -0.01338334,  0.03399658,  0.00197983],\n",
            "      dtype=float32), array([-3.07956263e-02,  6.71115443e-02,  1.18221706e-02,  8.07291642e-02,\n",
            "       -8.26211497e-02, -3.03887259e-02,  7.35218823e-02, -5.61591238e-02,\n",
            "        2.11181641e-02,  5.72645403e-02,  1.08506940e-02, -7.56293386e-02,\n",
            "       -8.81856307e-02, -1.88123919e-02, -9.13967565e-02,  1.09917536e-01,\n",
            "        3.76247838e-02,  1.59939229e-01,  1.70254186e-02, -1.45670578e-01,\n",
            "       -1.43364798e-02,  1.13661028e-02, -4.50914167e-02, -2.69911019e-03,\n",
            "        4.98589426e-02,  1.94227435e-02, -8.70564803e-02,  2.53499355e-02,\n",
            "        6.30154088e-02, -3.35761160e-02, -1.81376133e-02, -4.16531041e-02,\n",
            "       -9.38585103e-02,  4.26161028e-02,  3.15687396e-02, -4.84212227e-02,\n",
            "        4.31179479e-02,  8.54356587e-02,  2.21082894e-03,  3.41118723e-02,\n",
            "        3.96185964e-02,  2.17556432e-02,  3.18951085e-02,  2.11588535e-02,\n",
            "        1.26953125e-02, -8.64257812e-02, -7.24792480e-02,  2.69745719e-02,\n",
            "       -4.13682719e-04, -7.18010822e-04, -9.43302587e-02, -4.08935547e-02,\n",
            "       -6.20117188e-02, -5.20731620e-02, -1.35192871e-02,  1.12772621e-01,\n",
            "       -6.21880442e-02, -8.07562917e-02,  6.91460520e-02, -1.05414495e-01,\n",
            "       -3.18467878e-02,  6.57280833e-02, -2.59941947e-02, -5.28462743e-03,\n",
            "       -3.12364362e-02, -7.87489116e-02, -3.92523855e-02,  1.86601430e-01,\n",
            "       -5.86954765e-02,  7.31608048e-02,  5.72679304e-02, -2.00330950e-02,\n",
            "        1.40889483e-02,  3.36676687e-02, -1.61851674e-01,  4.77566198e-02,\n",
            "        1.43066406e-01,  7.67957866e-02,  3.57394740e-02,  2.42919922e-02,\n",
            "        1.31591797e-01,  3.78960520e-02,  1.63167324e-02,  8.79448801e-02,\n",
            "       -2.60620117e-02,  3.05175781e-02, -9.76223424e-02,  1.63247004e-01,\n",
            "        6.57823356e-03,  1.52723528e-02,  1.39702689e-02, -3.55631523e-02,\n",
            "       -1.31239146e-01, -1.88259557e-02, -9.31532085e-02, -9.28819478e-02,\n",
            "       -4.93062325e-02, -8.20855051e-02,  3.35828997e-02, -6.73692524e-02,\n",
            "       -1.66286901e-02, -1.04437931e-03, -1.98499896e-02,  5.24597168e-02,\n",
            "       -3.36778425e-02, -5.56098111e-03, -7.71348774e-02, -7.00005442e-02,\n",
            "        7.35812709e-02, -1.88259557e-02, -1.96885854e-01,  1.73746739e-02,\n",
            "       -8.64529088e-02, -1.11667208e-01,  6.75591379e-02,  9.23665334e-03,\n",
            "        2.38715280e-02, -2.84559466e-02, -5.03879134e-03, -4.61832695e-02,\n",
            "       -9.17154923e-02,  7.91422557e-03, -4.85636406e-02,  1.28255203e-01,\n",
            "       -5.65456823e-02, -8.49066861e-03, -1.45392522e-01, -2.07010899e-02,\n",
            "        2.38037109e-02,  6.91053569e-02, -4.04324010e-02, -1.11233182e-01,\n",
            "       -1.27027720e-01,  3.85199650e-03,  9.04066265e-02, -2.70589199e-02,\n",
            "        2.20947266e-02, -2.06163190e-02, -1.23969186e-02,  7.64838308e-02,\n",
            "        4.50507253e-02,  1.57335065e-02, -3.80520299e-02,  2.60594692e-02,\n",
            "        2.60416660e-02, -1.58962682e-02,  8.89756903e-03,  3.23893242e-02,\n",
            "       -5.76714426e-02, -2.92892456e-02,  2.20913365e-02, -9.78732631e-02,\n",
            "       -1.69514969e-01,  2.60281041e-02, -5.66338450e-02, -4.79532890e-02,\n",
            "       -1.21003896e-01, -2.73980033e-02, -4.70852330e-02, -4.19048741e-02,\n",
            "        3.58072929e-02,  5.53927943e-02, -4.97436523e-02,  4.49028015e-02,\n",
            "       -5.75764989e-03, -5.29513881e-02,  4.41826731e-02, -2.72013340e-02,\n",
            "        2.29704119e-02,  4.69021276e-02, -7.66059011e-02,  1.00260414e-01,\n",
            "       -1.05631508e-01, -1.31768119e-02,  1.46789551e-02,  4.41758893e-02,\n",
            "        1.03298612e-01, -8.90842006e-02, -6.16997629e-02, -6.89019077e-03,\n",
            "       -1.28194168e-01, -5.42704277e-02,  4.69021276e-02,  8.04646779e-03,\n",
            "        5.48739955e-02, -1.36650931e-02, -6.06553815e-02, -1.47806806e-02,\n",
            "       -1.54283305e-04,  5.62133789e-02, -6.32188618e-02, -3.01920567e-02,\n",
            "        1.24782985e-02,  5.88361956e-02,  9.33837891e-03, -6.64605061e-04,\n",
            "        4.00119345e-04, -7.04599991e-02, -2.45971680e-02, -8.93012136e-02,\n",
            "        3.78216640e-03, -1.51909725e-03, -7.65211284e-02, -3.64345983e-02,\n",
            "        2.13758685e-02, -6.41547292e-02,  6.97157113e-03, -8.43912736e-02,\n",
            "       -1.52045358e-02,  3.69330496e-02, -8.14480260e-02,  3.20366770e-02,\n",
            "       -4.35858816e-02,  3.17382812e-03, -1.48383249e-02, -2.17013891e-04,\n",
            "        8.80423635e-02, -6.28450215e-02, -6.86747208e-02, -1.55436201e-02,\n",
            "        1.09456377e-02,  3.71297193e-03, -3.63091379e-02, -1.88530814e-02,\n",
            "        1.51604544e-02, -1.23223200e-01,  2.47395840e-02,  5.86276576e-02,\n",
            "       -7.43069127e-02,  8.33638534e-02, -4.48811837e-02,  1.58691406e-02,\n",
            "       -7.20214844e-03,  5.53114153e-02,  6.97970912e-02, -3.27962227e-02,\n",
            "        1.15254717e-02, -6.16116002e-02,  8.92198384e-02,  2.32476126e-02,\n",
            "        3.10058594e-02,  1.95821121e-04, -6.86984602e-03, -7.22552389e-02,\n",
            "        1.45941842e-02, -4.30636927e-02,  2.92426217e-02,  1.24443904e-01,\n",
            "       -5.57454415e-02, -9.36414897e-02,  1.64048932e-02,  1.13335505e-01,\n",
            "        5.67084402e-02,  4.86246757e-02,  3.26334648e-02, -1.09989591e-01,\n",
            "       -1.04682073e-01,  1.11782499e-01, -1.89378522e-02, -7.61990026e-02,\n",
            "       -1.15559893e-02, -9.08067524e-02, -3.45730260e-02,  7.88099468e-02,\n",
            "        7.47748464e-02,  7.74264857e-02,  5.71017787e-02, -6.78100586e-02,\n",
            "       -1.42686628e-02, -2.04128698e-02, -1.98025182e-02, -3.01378034e-02,\n",
            "       -1.96533203e-02, -1.44483782e-02,  5.10253906e-02, -2.28000209e-02,\n",
            "       -9.35397670e-02, -1.35294599e-02, -5.66406250e-02,  1.41059030e-02,\n",
            "       -3.43967006e-02,  4.50303815e-02,  1.19764544e-02,  1.60929356e-02,\n",
            "        7.57107213e-02, -7.76227340e-02, -2.24473737e-02, -1.46484375e-02,\n",
            "        4.90722656e-02,  4.98055369e-02, -7.26292953e-02,  2.53363717e-02,\n",
            "       -5.01844622e-02, -7.31065543e-03, -5.42534748e-04, -3.18094902e-02,\n",
            "       -4.00526263e-02,  2.83135311e-03,  1.20713981e-03,  2.04806849e-02],\n",
            "      dtype=float32), array([ 1.09607220e-01,  1.26088455e-01,  3.08799744e-02,  1.53279617e-01,\n",
            "       -3.32132168e-02, -4.42097969e-02,  8.95182311e-04, -1.38066605e-01,\n",
            "        1.78540554e-02,  1.13393150e-01, -5.92854805e-02, -2.71453857e-02,\n",
            "       -1.30386353e-02, -5.33243828e-02, -5.06947823e-02,  6.05519628e-03,\n",
            "        7.68025697e-04,  1.13126121e-01, -4.34290580e-02, -1.16160072e-01,\n",
            "       -4.72428016e-02,  2.36002598e-02, -2.64492035e-02,  5.49386330e-02,\n",
            "        1.86360683e-02, -6.09842949e-02, -1.49871826e-01,  1.27410889e-01,\n",
            "        4.12991829e-02, -1.09537758e-01,  1.97448730e-02, -3.05328369e-02,\n",
            "       -4.67936182e-03,  7.66525269e-02, -5.37007637e-02, -4.81516533e-02,\n",
            "        3.99424247e-02,  7.90402070e-02,  1.52364090e-01, -1.90073643e-02,\n",
            "        1.04929604e-01,  7.11263046e-02,  4.37927246e-02,  1.44135160e-02,\n",
            "       -3.64329033e-02, -6.39381409e-02, -7.50808716e-02,  3.80430222e-02,\n",
            "        6.15437813e-02, -3.39654274e-02, -1.19461060e-01, -5.64727783e-02,\n",
            "       -1.13413490e-01, -8.93478394e-02,  5.52190132e-02,  1.56819656e-01,\n",
            "        3.41898613e-02, -8.84590149e-02,  5.55572510e-02, -8.00577775e-02,\n",
            "       -2.87831631e-02,  3.40677910e-02, -7.66601562e-02, -7.66626978e-03,\n",
            "       -1.69474278e-02,  2.32950854e-03, -5.65388985e-02,  1.62577316e-01,\n",
            "        3.52198295e-02,  1.11658730e-01, -8.22957326e-03, -5.59488945e-02,\n",
            "        6.10758476e-02, -1.00987749e-02, -8.56526718e-02, -1.34440109e-01,\n",
            "        1.03569031e-01,  7.49893188e-02,  8.84157792e-02,  2.54211426e-02,\n",
            "        4.08350639e-02,  4.11427803e-02,  8.51186085e-03,  3.82792167e-02,\n",
            "        8.85912552e-02,  3.07490025e-02, -2.04162598e-02,  1.03595734e-01,\n",
            "        4.12699394e-02,  1.34750366e-01,  4.34366846e-03, -5.60569763e-03,\n",
            "       -3.25787850e-02, -2.89408374e-03,  7.53784180e-03,  1.16271973e-02,\n",
            "        6.79855347e-02, -6.10351562e-05,  6.63146973e-02,  2.40631104e-02,\n",
            "        2.69837379e-02, -1.60237625e-01, -8.91214982e-02, -4.52677393e-03,\n",
            "        1.05590820e-02, -2.24355068e-02,  2.37299595e-02, -7.01395655e-03,\n",
            "        7.73518905e-02, -2.69254055e-02, -3.49426270e-03,  3.09244799e-03,\n",
            "       -8.48388672e-03,  1.82113647e-02,  7.23571777e-02,  7.56835938e-03,\n",
            "        4.46828194e-02, -3.70941162e-02,  8.62426758e-02, -3.34981270e-02,\n",
            "       -4.25504036e-02,  2.90934239e-02, -6.09868355e-02,  1.46753952e-01,\n",
            "        3.45458984e-02, -3.00903320e-02, -7.00531006e-02,  5.61472587e-02,\n",
            "       -4.34265137e-02,  9.61831436e-02, -3.68499756e-02, -2.37681065e-02,\n",
            "       -5.85784912e-02,  6.79194108e-02, -2.74149585e-03,  6.26042709e-02,\n",
            "        8.52305070e-02, -7.21232081e-03,  4.28059883e-02,  4.20125313e-02,\n",
            "       -4.78057861e-02, -1.03942871e-01, -3.79638672e-02,  4.90315743e-02,\n",
            "        8.23008195e-02, -2.07010913e-03,  6.15386963e-02, -1.82596839e-03,\n",
            "       -3.28915901e-02, -5.95703125e-02,  8.86052474e-02, -8.66190568e-02,\n",
            "       -7.75807723e-02,  4.55932617e-02, -2.85593676e-03, -6.34663925e-02,\n",
            "       -1.07106529e-01, -6.19366951e-02, -7.14925155e-02, -5.81512451e-02,\n",
            "        6.21032715e-03,  1.76106766e-01,  3.99119072e-02, -2.71606445e-03,\n",
            "       -1.43330889e-02, -4.96419286e-03,  4.10461426e-02, -7.24461898e-02,\n",
            "       -4.01916504e-02, -3.69911194e-02, -1.49241135e-01,  1.15966797e-03,\n",
            "       -3.57208252e-02, -9.18935165e-02,  7.91867599e-02,  3.64646912e-02,\n",
            "        5.25665283e-02, -8.01289901e-02, -8.28653947e-02,  5.22867851e-02,\n",
            "       -1.30167648e-01, -7.38067627e-02, -1.27131147e-02, -6.64240494e-02,\n",
            "        8.43251571e-02,  1.37736006e-02, -6.47074357e-02,  7.25835189e-02,\n",
            "        6.91680908e-02, -4.03849268e-03,  3.23492698e-02, -2.89815273e-02,\n",
            "       -1.73085537e-02, -4.27551270e-02, -5.20019531e-02, -1.68355312e-02,\n",
            "        4.53186035e-02, -8.70310441e-02,  1.99890137e-03, -1.25445053e-01,\n",
            "        7.59785995e-02,  4.91129570e-02, -1.75476074e-04, -1.63396206e-02,\n",
            "       -3.60616040e-03,  4.88484688e-02,  8.12911987e-02, -8.18481445e-02,\n",
            "       -3.29742432e-02, -1.13648735e-01,  4.41487646e-03,  4.45658378e-02,\n",
            "       -7.34532699e-02,  5.56615181e-02, -9.88769531e-02, -1.87377930e-02,\n",
            "        3.29132080e-02, -1.39363611e-03, -1.07292175e-01,  1.66066494e-02,\n",
            "       -1.06569923e-01,  1.13474531e-02,  4.42606620e-02, -2.91748047e-02,\n",
            "       -4.98148613e-02, -4.17887382e-02, -1.41499834e-02,  1.11287432e-02,\n",
            "        5.42526245e-02, -1.20747881e-02,  8.08715820e-03,  1.63981114e-02,\n",
            "       -2.22778320e-02,  1.95210781e-02,  1.18058519e-02,  3.13313794e-03,\n",
            "       -7.61693344e-02, -1.36464434e-02,  1.56122848e-01,  5.27572632e-03,\n",
            "        1.03436790e-01, -5.13712550e-03,  4.98002358e-02, -1.28270462e-01,\n",
            "       -4.77905273e-02, -2.16979980e-02,  1.90302525e-02,  1.34826660e-01,\n",
            "        3.51969413e-02,  4.53249626e-02,  5.10889702e-02,  1.20979309e-01,\n",
            "        6.45955419e-03,  2.19332371e-02,  9.87497941e-02, -1.42265320e-01,\n",
            "       -4.17785645e-02,  3.32641602e-03, -3.79130058e-02, -4.10766602e-02,\n",
            "        4.44335938e-02, -6.62231445e-03, -9.11865234e-02,  5.25004081e-02,\n",
            "        7.81148300e-02,  4.15840149e-02,  6.60273209e-02,  8.53220641e-04,\n",
            "       -7.16733932e-02, -4.28263359e-02, -1.65913906e-02,  5.48706055e-02,\n",
            "        7.68432617e-02, -2.58916225e-02,  5.54809570e-02,  9.49096680e-03,\n",
            "       -6.51423121e-03, -9.15730819e-02, -9.17256698e-02, -9.76562500e-03,\n",
            "       -1.05265297e-01,  5.49195595e-02, -7.30641698e-03,  7.73925781e-02,\n",
            "        1.11999512e-02,  2.90171299e-02,  4.73022461e-03, -1.25325518e-02,\n",
            "        2.18607578e-02,  8.33269730e-02, -8.60678330e-02, -6.01608753e-02,\n",
            "       -1.29369095e-01, -9.30277482e-02, -3.54410820e-02, -5.93109131e-02,\n",
            "       -5.99161768e-03, -2.26186123e-02,  3.90796661e-02, -6.44146577e-02],\n",
            "      dtype=float32)]\n"
          ]
        }
      ],
      "source": [
        "# List to hold document vectors\n",
        "document_vectors = []\n",
        "\n",
        "# Iterate over each document\n",
        "for doc in tokenized_documents:\n",
        "    word_vectors = []\n",
        "\n",
        "    # For each word in the document, check if it exists in the pretrained model\n",
        "    for word in doc:\n",
        "        if word in loaded_model.key_to_index:  # Check if word exists in pretrained vocab\n",
        "            word_vectors.append(loaded_model[word])\n",
        "\n",
        "    # If we have any valid word vectors, calculate the average vector for the document\n",
        "    if word_vectors:\n",
        "        avg_vector = sum(word_vectors) / len(word_vectors)\n",
        "        document_vectors.append(avg_vector)\n",
        "    else:\n",
        "        # Handle cases where no valid word vectors are found\n",
        "        document_vectors.append(None)\n",
        "\n",
        "# Now, `document_vectors` holds the average vector for each document\n",
        "print(document_vectors)"
      ]
    },
    {
      "cell_type": "code",
      "execution_count": 49,
      "metadata": {
        "id": "E8MAPxoRUmlf"
      },
      "outputs": [
        {
          "name": "stdout",
          "output_type": "stream",
          "text": [
            "Cosine similarity between doc1 and doc2: 0.43390050530433655\n"
          ]
        }
      ],
      "source": [
        "# now let's calculate the similarities of documents (how well do we do?)\n",
        "from sklearn.metrics.pairwise import cosine_similarity\n",
        "\n",
        "# Assuming you have two document vectors from `document_vectors`\n",
        "doc1_vector = document_vectors[0]\n",
        "doc2_vector = document_vectors[1]\n",
        "\n",
        "# Compute cosine similarity\n",
        "similarity = cosine_similarity([doc1_vector], [doc2_vector])\n",
        "print(f\"Cosine similarity between doc1 and doc2: {similarity[0][0]}\")\n"
      ]
    },
    {
      "cell_type": "code",
      "execution_count": 51,
      "metadata": {},
      "outputs": [
        {
          "name": "stdout",
          "output_type": "stream",
          "text": [
            "\n",
            "Cosine Similarity Matrix:\n",
            "          Doc 1     Doc 2     Doc 3     Doc 4     Doc 5     Doc 6\n",
            "Doc 1  1.000000  0.433901  0.474278  0.410977  0.346320  0.345922\n",
            "Doc 2  0.433901  1.000000  0.374932  0.426410  0.428854  0.490965\n",
            "Doc 3  0.474278  0.374932  1.000000  0.750329  0.416045  0.453971\n",
            "Doc 4  0.410977  0.426410  0.750329  1.000000  0.402608  0.433919\n",
            "Doc 5  0.346320  0.428854  0.416045  0.402608  1.000000  0.543293\n",
            "Doc 6  0.345922  0.490965  0.453971  0.433919  0.543293  1.000000\n"
          ]
        },
        {
          "data": {
            "image/png": "[encoded data removed]",
            "text/plain": [
              "<Figure size 800x600 with 2 Axes>"
            ]
          },
          "metadata": {},
          "output_type": "display_data"
        }
      ],
      "source": [
        "# Calculate the cosine similarity between all document vectors\n",
        "similarity_matrix = cosine_similarity(document_vectors)\n",
        "\n",
        "# Create a DataFrame for better visualization\n",
        "similarity_df = pd.DataFrame(similarity_matrix, \n",
        "                             index=[f\"Doc {i+1}\" for i in range(len(document_vectors))],\n",
        "                             columns=[f\"Doc {i+1}\" for i in range(len(document_vectors))])\n",
        "\n",
        "# Display the cosine similarity matrix\n",
        "print(\"\\nCosine Similarity Matrix:\")\n",
        "print(similarity_df)\n",
        "\n",
        "# Plot the heatmap\n",
        "plt.figure(figsize=(8, 6))\n",
        "sns.heatmap(similarity_df, annot=True, cmap=\"coolwarm\", linewidths=0.5)\n",
        "plt.title('Cosine Similarity Between Documents')\n",
        "plt.show()\n"
      ]
    }
  ],
  "metadata": {
    "colab": {
      "provenance": []
    },
    "kernelspec": {
      "display_name": "Python 3",
      "name": "python3"
    },
    "language_info": {
      "codemirror_mode": {
        "name": "ipython",
        "version": 3
      },
      "file_extension": ".py",
      "mimetype": "text/x-python",
      "name": "python",
      "nbconvert_exporter": "python",
      "pygments_lexer": "ipython3",
      "version": "3.11.9"
    }
  },
  "nbformat": 4,
  "nbformat_minor": 0
}
